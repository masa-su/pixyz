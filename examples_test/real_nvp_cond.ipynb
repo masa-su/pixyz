{
 "cells": [
  {
   "cell_type": "markdown",
   "metadata": {},
   "source": [
    "# Conditional Real NVP"
   ]
  },
  {
   "cell_type": "code",
   "execution_count": 1,
   "metadata": {},
   "outputs": [],
   "source": [
    "from __future__ import print_function\n",
    "import torch\n",
    "import torch.utils.data\n",
    "from torch import nn, optim\n",
    "from torch.nn import functional as F\n",
    "from torchvision import datasets, transforms\n",
    "from tensorboardX import SummaryWriter\n",
    "\n",
    "from tqdm import tqdm\n",
    "\n",
    "batch_size = 128\n",
    "epochs = 10\n",
    "seed = 1\n",
    "torch.manual_seed(seed)\n",
    "\n",
    "if torch.cuda.is_available():\n",
    "    device = \"cuda\"\n",
    "else:\n",
    "    device = \"cpu\""
   ]
  },
  {
   "cell_type": "code",
   "execution_count": 2,
   "metadata": {},
   "outputs": [],
   "source": [
    "root = '../data'\n",
    "transform = transforms.Compose([transforms.ToTensor(),\n",
    "                                transforms.Lambda(lambd=lambda x: x.view(-1))])\n",
    "kwargs = {'batch_size': batch_size, 'num_workers': 1, 'pin_memory': True}\n",
    "\n",
    "train_loader = torch.utils.data.DataLoader(\n",
    "    datasets.MNIST(root=root, train=True, transform=transform, download=True),\n",
    "    shuffle=True, **kwargs)\n",
    "test_loader = torch.utils.data.DataLoader(\n",
    "    datasets.MNIST(root=root, train=False, transform=transform),\n",
    "    shuffle=False, **kwargs)"
   ]
  },
  {
   "cell_type": "code",
   "execution_count": 3,
   "metadata": {},
   "outputs": [],
   "source": [
    "from pixyz.distributions import Normal, InverseTransformedDistribution\n",
    "from pixyz.flows import AffineCoupling, FlowList, BatchNorm1d, Shuffle, Preprocess, Reverse\n",
    "from pixyz.models import ML\n",
    "from pixyz.utils import print_latex"
   ]
  },
  {
   "cell_type": "code",
   "execution_count": 4,
   "metadata": {},
   "outputs": [],
   "source": [
    "x_dim = 28*28\n",
    "y_dim = 10\n",
    "z_dim = x_dim"
   ]
  },
  {
   "cell_type": "code",
   "execution_count": 5,
   "metadata": {},
   "outputs": [],
   "source": [
    "# prior model p(z)\n",
    "prior = Normal(loc= torch.tensor(0.), scale=torch.tensor(1.),\n",
    "               var=[\"z\"], features_shape=[z_dim], name=\"p_prior\").to(device)"
   ]
  },
  {
   "cell_type": "code",
   "execution_count": 6,
   "metadata": {},
   "outputs": [],
   "source": [
    "class ScaleTranslateNet(nn.Module):\n",
    "    def __init__(self, in_features, hidden_features):\n",
    "        super().__init__()\n",
    "        self.fc1 = nn.Linear(in_features+y_dim, hidden_features)\n",
    "        self.fc2 = nn.Linear(hidden_features, hidden_features)\n",
    "        self.fc3_s = nn.Linear(hidden_features, in_features)\n",
    "        self.fc3_t = nn.Linear(hidden_features, in_features)\n",
    "\n",
    "    def forward(self, x, y):\n",
    "        hidden = F.relu(self.fc2(F.relu(self.fc1(torch.cat([x, y], 1)))))\n",
    "        log_s = torch.tanh(self.fc3_s(hidden))\n",
    "        t = self.fc3_t(hidden)\n",
    "        return log_s, t"
   ]
  },
  {
   "cell_type": "code",
   "execution_count": 7,
   "metadata": {},
   "outputs": [],
   "source": [
    "# flow\n",
    "flow_list = []\n",
    "num_block = 5\n",
    "\n",
    "flow_list.append(Preprocess())\n",
    "\n",
    "for i in range(num_block):\n",
    "        flow_list.append(AffineCoupling(in_features=x_dim,\n",
    "                                        scale_translate_net=ScaleTranslateNet(x_dim, 1028),\n",
    "                                        inverse_mask=(i%2!=0)))\n",
    "        \n",
    "        flow_list.append(BatchNorm1d(x_dim))\n",
    "        \n",
    "f = FlowList(flow_list)"
   ]
  },
  {
   "cell_type": "code",
   "execution_count": 8,
   "metadata": {},
   "outputs": [
    {
     "data": {
      "text/latex": [
       "$\\displaystyle p(x|y) = p(x=f^{-1}_{flow}(z,y))$"
      ],
      "text/plain": [
       "<IPython.core.display.Math object>"
      ]
     },
     "execution_count": 8,
     "metadata": {},
     "output_type": "execute_result"
    }
   ],
   "source": [
    "# inverse transformed distribution (z -> f^-1 -> x)\n",
    "p = InverseTransformedDistribution(prior=prior, flow=f, var=[\"x\"], cond_var=[\"y\"]).to(device)\n",
    "print_latex(p)"
   ]
  },
  {
   "cell_type": "code",
   "execution_count": 9,
   "metadata": {},
   "outputs": [
    {
     "name": "stdout",
     "output_type": "stream",
     "text": [
      "Distributions (for training): \n",
      "  p(x|y) \n",
      "Loss function: \n",
      "  mean \\left(- \\log p(x|y) \\right) \n",
      "Optimizer: \n",
      "  Adam (\n",
      "  Parameter Group 0\n",
      "      amsgrad: False\n",
      "      betas: (0.9, 0.999)\n",
      "      eps: 1e-08\n",
      "      lr: 0.001\n",
      "      weight_decay: 0\n",
      "  )\n"
     ]
    },
    {
     "data": {
      "text/latex": [
       "$\\displaystyle mean \\left(- \\log p(x|y) \\right)$"
      ],
      "text/plain": [
       "<IPython.core.display.Math object>"
      ]
     },
     "execution_count": 9,
     "metadata": {},
     "output_type": "execute_result"
    }
   ],
   "source": [
    "model = ML(p, optimizer=optim.Adam, optimizer_params={\"lr\":1e-3})\n",
    "print(model)\n",
    "print_latex(model)"
   ]
  },
  {
   "cell_type": "code",
   "execution_count": 10,
   "metadata": {},
   "outputs": [],
   "source": [
    "def train(epoch):\n",
    "    train_loss = 0\n",
    "    for x, y in tqdm(train_loader):\n",
    "        x = x.to(device)\n",
    "        y = torch.eye(10)[y].to(device)        \n",
    "        loss = model.train({\"x\": x, \"y\": y})\n",
    "        train_loss += loss\n",
    " \n",
    "    train_loss = train_loss * train_loader.batch_size / len(train_loader.dataset)\n",
    "    print('Epoch: {} Train loss: {:.4f}'.format(epoch, train_loss))\n",
    "    return train_loss"
   ]
  },
  {
   "cell_type": "code",
   "execution_count": 11,
   "metadata": {},
   "outputs": [],
   "source": [
    "def test(epoch):\n",
    "    test_loss = 0\n",
    "    for x, y in test_loader:\n",
    "        x = x.to(device)\n",
    "        y = torch.eye(10)[y].to(device)\n",
    "        loss = model.test({\"x\": x, \"y\": y})\n",
    "        test_loss += loss\n",
    "\n",
    "    test_loss = test_loss * test_loader.batch_size / len(test_loader.dataset)\n",
    "    print('Test loss: {:.4f}'.format(test_loss))\n",
    "    return test_loss"
   ]
  },
  {
   "cell_type": "code",
   "execution_count": 12,
   "metadata": {},
   "outputs": [],
   "source": [
    "def plot_reconstrunction(x, y):\n",
    "    with torch.no_grad():\n",
    "        z = p.forward(x, y, compute_jacobian=False)\n",
    "        recon_batch = p.inverse(z, y).view(-1, 1, 28, 28)\n",
    "    \n",
    "        recon = torch.cat([x.view(-1, 1, 28, 28), recon_batch]).cpu()\n",
    "        return recon\n",
    "    \n",
    "def plot_image_from_latent(z, y):\n",
    "    with torch.no_grad():\n",
    "        sample = p.inverse(z, y).view(-1, 1, 28, 28).cpu()\n",
    "        return sample\n",
    "    \n",
    "def plot_reconstrunction_changing_y(x, y):\n",
    "    y_change = torch.eye(10)[range(7)].to(device)\n",
    "    batch_dummy = torch.ones(x.size(0))[:, None].to(device)    \n",
    "    recon_all = []\n",
    "    \n",
    "    with torch.no_grad():\n",
    "        for _y in y_change:\n",
    "            z = p.forward(x, y, compute_jacobian=False)\n",
    "            recon_batch = p.inverse(z, batch_dummy * _y[None,:]).view(-1, 1, 28, 28)\n",
    "            recon_all.append(recon_batch)\n",
    "    \n",
    "        recon_changing_y = torch.cat(recon_all)\n",
    "        recon_changing_y = torch.cat([x.view(-1, 1, 28, 28), recon_changing_y]).cpu()\n",
    "        return recon_changing_y"
   ]
  },
  {
   "cell_type": "code",
   "execution_count": 13,
   "metadata": {},
   "outputs": [],
   "source": [
    "import datetime\n",
    "\n",
    "dt_now = datetime.datetime.now()\n",
    "exp_time = dt_now.strftime('%Y%m%d_%H:%M:%S')"
   ]
  },
  {
   "cell_type": "code",
   "execution_count": 14,
   "metadata": {},
   "outputs": [
    {
     "name": "stderr",
     "output_type": "stream",
     "text": [
      "100%|██████████| 469/469 [00:17<00:00, 27.19it/s]"
     ]
    },
    {
     "name": "stdout",
     "output_type": "stream",
     "text": [
      "Epoch: 1 Train loss: -2910.2405\n"
     ]
    },
    {
     "name": "stderr",
     "output_type": "stream",
     "text": [
      "\n",
      "  0%|          | 0/469 [00:00<?, ?it/s]"
     ]
    },
    {
     "name": "stdout",
     "output_type": "stream",
     "text": [
      "Test loss: -2589.7812\n"
     ]
    },
    {
     "name": "stderr",
     "output_type": "stream",
     "text": [
      "100%|██████████| 469/469 [00:17<00:00, 26.93it/s]"
     ]
    },
    {
     "name": "stdout",
     "output_type": "stream",
     "text": [
      "Epoch: 2 Train loss: -3100.3530\n"
     ]
    },
    {
     "name": "stderr",
     "output_type": "stream",
     "text": [
      "\n",
      "  0%|          | 0/469 [00:00<?, ?it/s]"
     ]
    },
    {
     "name": "stdout",
     "output_type": "stream",
     "text": [
      "Test loss: -2839.2712\n"
     ]
    },
    {
     "name": "stderr",
     "output_type": "stream",
     "text": [
      "100%|██████████| 469/469 [00:16<00:00, 27.70it/s]\n"
     ]
    },
    {
     "name": "stdout",
     "output_type": "stream",
     "text": [
      "Epoch: 3 Train loss: -3158.2097\n"
     ]
    },
    {
     "name": "stderr",
     "output_type": "stream",
     "text": [
      "  0%|          | 0/469 [00:00<?, ?it/s]"
     ]
    },
    {
     "name": "stdout",
     "output_type": "stream",
     "text": [
      "Test loss: -2991.2817\n"
     ]
    },
    {
     "name": "stderr",
     "output_type": "stream",
     "text": [
      "100%|██████████| 469/469 [00:17<00:00, 27.36it/s]"
     ]
    },
    {
     "name": "stdout",
     "output_type": "stream",
     "text": [
      "Epoch: 4 Train loss: -3191.9492\n"
     ]
    },
    {
     "name": "stderr",
     "output_type": "stream",
     "text": [
      "\n",
      "  0%|          | 0/469 [00:00<?, ?it/s]"
     ]
    },
    {
     "name": "stdout",
     "output_type": "stream",
     "text": [
      "Test loss: -2972.3020\n"
     ]
    },
    {
     "name": "stderr",
     "output_type": "stream",
     "text": [
      "100%|██████████| 469/469 [00:17<00:00, 27.29it/s]"
     ]
    },
    {
     "name": "stdout",
     "output_type": "stream",
     "text": [
      "Epoch: 5 Train loss: -3213.2173\n"
     ]
    },
    {
     "name": "stderr",
     "output_type": "stream",
     "text": [
      "\n",
      "  0%|          | 0/469 [00:00<?, ?it/s]"
     ]
    },
    {
     "name": "stdout",
     "output_type": "stream",
     "text": [
      "Test loss: -2873.9517\n"
     ]
    },
    {
     "name": "stderr",
     "output_type": "stream",
     "text": [
      "100%|██████████| 469/469 [00:17<00:00, 27.53it/s]"
     ]
    },
    {
     "name": "stdout",
     "output_type": "stream",
     "text": [
      "Epoch: 6 Train loss: -3231.2964\n"
     ]
    },
    {
     "name": "stderr",
     "output_type": "stream",
     "text": [
      "\n",
      "  0%|          | 0/469 [00:00<?, ?it/s]"
     ]
    },
    {
     "name": "stdout",
     "output_type": "stream",
     "text": [
      "Test loss: -2744.0271\n"
     ]
    },
    {
     "name": "stderr",
     "output_type": "stream",
     "text": [
      "100%|██████████| 469/469 [00:17<00:00, 27.22it/s]"
     ]
    },
    {
     "name": "stdout",
     "output_type": "stream",
     "text": [
      "Epoch: 7 Train loss: -3244.7383\n"
     ]
    },
    {
     "name": "stderr",
     "output_type": "stream",
     "text": [
      "\n",
      "  0%|          | 0/469 [00:00<?, ?it/s]"
     ]
    },
    {
     "name": "stdout",
     "output_type": "stream",
     "text": [
      "Test loss: -2981.4692\n"
     ]
    },
    {
     "name": "stderr",
     "output_type": "stream",
     "text": [
      "100%|██████████| 469/469 [00:18<00:00, 26.04it/s]"
     ]
    },
    {
     "name": "stdout",
     "output_type": "stream",
     "text": [
      "Epoch: 8 Train loss: -3255.3843\n"
     ]
    },
    {
     "name": "stderr",
     "output_type": "stream",
     "text": [
      "\n",
      "  0%|          | 0/469 [00:00<?, ?it/s]"
     ]
    },
    {
     "name": "stdout",
     "output_type": "stream",
     "text": [
      "Test loss: -3144.8003\n"
     ]
    },
    {
     "name": "stderr",
     "output_type": "stream",
     "text": [
      "100%|██████████| 469/469 [00:18<00:00, 25.78it/s]\n"
     ]
    },
    {
     "name": "stdout",
     "output_type": "stream",
     "text": [
      "Epoch: 9 Train loss: -3265.3008\n"
     ]
    },
    {
     "name": "stderr",
     "output_type": "stream",
     "text": [
      "  0%|          | 0/469 [00:00<?, ?it/s]"
     ]
    },
    {
     "name": "stdout",
     "output_type": "stream",
     "text": [
      "Test loss: -1612.7463\n"
     ]
    },
    {
     "name": "stderr",
     "output_type": "stream",
     "text": [
      "100%|██████████| 469/469 [00:17<00:00, 26.53it/s]"
     ]
    },
    {
     "name": "stdout",
     "output_type": "stream",
     "text": [
      "Epoch: 10 Train loss: -3273.2192\n"
     ]
    },
    {
     "name": "stderr",
     "output_type": "stream",
     "text": [
      "\n"
     ]
    },
    {
     "name": "stdout",
     "output_type": "stream",
     "text": [
      "Test loss: -3091.5256\n"
     ]
    }
   ],
   "source": [
    "import pixyz\n",
    "v = pixyz.__version__\n",
    "writer = SummaryWriter(\"runs/\" + v + \".real_nvp_cond\" + exp_time)\n",
    "\n",
    "plot_number = 5\n",
    "\n",
    "z_sample = 0.5 * torch.randn(64, z_dim).to(device)\n",
    "y_sample = torch.eye(10)[[plot_number]*64].to(device)\n",
    "\n",
    "_x, _y = iter(test_loader).next()\n",
    "_x = _x.to(device)\n",
    "_y = torch.eye(10)[_y].to(device)\n",
    "\n",
    "import time\n",
    "start = time.time()\n",
    "for epoch in range(1, epochs + 1):\n",
    "    train_loss = train(epoch)\n",
    "    test_loss = test(epoch)\n",
    "    \n",
    "    recon = plot_reconstrunction(_x[:8], _y[:8])\n",
    "    sample = plot_image_from_latent(z_sample, y_sample)\n",
    "    recon_changing_y = plot_reconstrunction_changing_y(_x[:8], _y[:8])\n",
    "\n",
    "    writer.add_scalar('train_loss', train_loss.item(), epoch)\n",
    "    writer.add_scalar('test_loss', test_loss.item(), epoch)      \n",
    "    \n",
    "    writer.add_images('Image_from_latent', sample, epoch)\n",
    "    writer.add_images('Image_reconstrunction', recon, epoch)\n",
    "    writer.add_images('Image_reconstrunction_change_y', recon_changing_y, epoch)\n",
    "elapsed_time = time.time() - start\n",
    "writer.add_scalar('Exp time second', elapsed_time) \n",
    "writer.close()"
   ]
  },
  {
   "cell_type": "code",
   "execution_count": 14,
   "metadata": {},
   "outputs": [],
   "source": []
  }
 ],
 "metadata": {
  "kernelspec": {
   "display_name": "Python 3",
   "language": "python",
   "name": "python3"
  },
  "language_info": {
   "codemirror_mode": {
    "name": "ipython",
    "version": 3
   },
   "file_extension": ".py",
   "mimetype": "text/x-python",
   "name": "python",
   "nbconvert_exporter": "python",
   "pygments_lexer": "ipython3",
   "version": "3.8.5"
  }
 },
 "nbformat": 4,
 "nbformat_minor": 4
}
