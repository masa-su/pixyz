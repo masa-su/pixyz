{
 "cells": [
  {
   "cell_type": "markdown",
   "metadata": {},
   "source": [
    "# MVAE\n",
    "* Original paper: Multimodal Generative Models for Scalable Weakly-Supervised Learning (https://papers.nips.cc/paper/7801-multimodal-generative-models-for-scalable-weakly-supervised-learning.pdf)\n",
    "* Original code: https://github.com/mhw32/multimodal-vae-public\n"
   ]
  },
  {
   "cell_type": "markdown",
   "metadata": {},
   "source": [
    "### MVAE summary  \n",
    "Multimodal variational autoencoder(MVAE) uses a product-of-experts inferece network and a sub-sampled training paradigm to solve the multi-modal inferece problem.  \n",
    "- Product-of-experts  \n",
    "In the multimodal setting we assume the N modalities, $x_{1}, x_{2}, ..., x_{N}$, are conditionally independent given the common latent variable, z. That is we assume a generative model of the form $p_{\\theta}(x_{1}, x_{2}, ..., x_{N}, z) = p(z)p_{\\theta}(x_{1}|z)p_{\\theta}(x_{2}|z)$・・・$p_{\\theta}(x_{N}|z)$. The conditional independence assumptions in the generative model imply a relation among joint- and simgle-modality posteriors. That is, the joint posterior is a procuct of individual posteriors, with an additional quotient by the prior.  \n",
    "\n",
    "- Sub-sampled training  \n",
    "MVAE sub-sample which ELBO terms to optimize for every gradient step for capturing the relationships between modalities and training individual inference networks.  "
   ]
  },
  {
   "cell_type": "code",
   "execution_count": 1,
   "metadata": {},
   "outputs": [],
   "source": [
    "from __future__ import print_function\n",
    "import torch\n",
    "import torch.utils.data\n",
    "from torch import nn, optim\n",
    "from torch.nn import functional as F\n",
    "from torchvision import datasets, transforms\n",
    "from torchvision.utils import save_image\n",
    "from tensorboardX import SummaryWriter\n",
    "\n",
    "from tqdm import tqdm\n",
    "\n",
    "batch_size = 128\n",
    "epochs = 100\n",
    "seed = 1\n",
    "torch.manual_seed(seed)\n",
    "\n",
    "if torch.cuda.is_available():\n",
    "    device = \"cuda\"\n",
    "else:\n",
    "    device = \"cpu\""
   ]
  },
  {
   "cell_type": "code",
   "execution_count": 2,
   "metadata": {},
   "outputs": [],
   "source": [
    "# MNIST\n",
    "# treat labels as a second modality\n",
    "root = '../data'\n",
    "transform = transforms.Compose([transforms.ToTensor(),\n",
    "                                transforms.Lambda(lambd=lambda x: x.view(-1))])\n",
    "kwargs = {'batch_size': batch_size, 'num_workers': 1, 'pin_memory': True}\n",
    "\n",
    "train_loader = torch.utils.data.DataLoader(\n",
    "    datasets.MNIST(root=root, train=True, transform=transform, download=True),\n",
    "    shuffle=True, **kwargs)\n",
    "test_loader = torch.utils.data.DataLoader(\n",
    "    datasets.MNIST(root=root, train=False, transform=transform),\n",
    "    shuffle=False, **kwargs)"
   ]
  },
  {
   "cell_type": "code",
   "execution_count": 3,
   "metadata": {},
   "outputs": [],
   "source": [
    "from pixyz.utils import print_latex"
   ]
  },
  {
   "cell_type": "markdown",
   "metadata": {},
   "source": [
    "## Define probability distributions\n",
    "### In the original paper\n",
    "Modalities: $x_{1}, x_{2}, ..., x_{N}$  \n",
    "Generative model:  \n",
    "\n",
    "$p_{\\theta}\\left(x_{1}, x_{2}, \\ldots, x_{N}, z\\right)=p(z) p_{\\theta}\\left(x_{1} | z\\right) p_{\\theta}\\left(x_{2} | z\\right) \\cdots p_{\\theta}\\left(x_{N} | z\\right)$  \n",
    "\n",
    "Inference:  \n",
    "\n",
    "$p\\left(z | x_{1}, \\ldots, x_{N}\\right) \\propto \\frac{\\prod_{i=1}^{N} p\\left(z | x_{i}\\right)}{\\prod_{i=1}^{N-1} p(z)} \\approx \\frac{\\prod_{i=1}^{N}\\left[\\tilde{q}\\left(z | x_{i}\\right) p(z)\\right]}{\\prod_{i=1}^{N-1} p(z)}=p(z) \\prod_{i=1}^{N} \\tilde{q}\\left(z | x_{i}\\right)$  \n",
    "\n",
    "### MNIST settings\n",
    "Modalities:\n",
    "- x for image modality\n",
    "- y for label modality\n",
    "\n",
    "Prior: $p(z) = \\cal N(z; \\mu=0, \\sigma^2=1)$  \n",
    "Generators:  \n",
    "$p_{\\theta}(x|z) = \\cal B(x; \\lambda = g_x(z))$ for image modality  \n",
    "$p_{\\theta}(y|z) = \\cal Cat(y; \\lambda = g_y(z))$ for label modality  \n",
    "$p_{\\theta}\\left(x, y, z\\right)=p(z) p_{\\theta}(x| z) p_{\\theta}(y | z)$\n",
    "\n",
    "Inferences:  \n",
    "$q_{\\phi}(z|x) = \\cal N(z; \\mu=fx_\\mu(x), \\sigma^2=fx_{\\sigma^2}(x))$ for image modality  \n",
    "$q_{\\phi}(z|y) = \\cal N(z; \\mu=fy_\\mu(y), \\sigma^2=fy_{\\sigma^2}(y))$ for label modality  \n",
    "$p(z)q_{\\phi}(z|x)q_{\\phi}(z|y)$\n"
   ]
  },
  {
   "cell_type": "code",
   "execution_count": 4,
   "metadata": {},
   "outputs": [],
   "source": [
    "from pixyz.distributions import Normal, Bernoulli, Categorical, ProductOfNormal\n",
    "\n",
    "x_dim = 784\n",
    "y_dim = 10\n",
    "z_dim = 64\n",
    "\n",
    "\n",
    "# inference model q(z|x) for image modality\n",
    "class InferenceX(Normal):\n",
    "    def __init__(self):\n",
    "        super(InferenceX, self).__init__(cond_var=[\"x\"], var=[\"z\"], name=\"q\")\n",
    "\n",
    "        self.fc1 = nn.Linear(x_dim, 512)\n",
    "        self.fc2 = nn.Linear(512, 512)\n",
    "        self.fc31 = nn.Linear(512, z_dim)\n",
    "        self.fc32 = nn.Linear(512, z_dim)\n",
    "\n",
    "    def forward(self, x):\n",
    "        h = F.relu(self.fc1(x))\n",
    "        h = F.relu(self.fc2(h))        \n",
    "        return {\"loc\": self.fc31(h), \"scale\": F.softplus(self.fc32(h))}\n",
    "\n",
    "\n",
    "# inference model q(z|y) for label modality\n",
    "class InferenceY(Normal):\n",
    "    def __init__(self):\n",
    "        super(InferenceY, self).__init__(cond_var=[\"y\"], var=[\"z\"], name=\"q\")\n",
    "\n",
    "        self.fc1 = nn.Linear(y_dim, 512)\n",
    "        self.fc2 = nn.Linear(512, 512)\n",
    "        self.fc31 = nn.Linear(512, z_dim)\n",
    "        self.fc32 = nn.Linear(512, z_dim)\n",
    "\n",
    "    def forward(self, y):\n",
    "        h = F.relu(self.fc1(y))\n",
    "        h = F.relu(self.fc2(h))        \n",
    "        return {\"loc\": self.fc31(h), \"scale\": F.softplus(self.fc32(h))}\n",
    "\n",
    "    \n",
    "# generative model p(x|z) \n",
    "class GeneratorX(Bernoulli):\n",
    "    def __init__(self):\n",
    "        super(GeneratorX, self).__init__(cond_var=[\"z\"], var=[\"x\"], name=\"p\")\n",
    "\n",
    "        self.fc1 = nn.Linear(z_dim, 512)\n",
    "        self.fc2 = nn.Linear(512, 512)\n",
    "        self.fc3 = nn.Linear(512, x_dim)\n",
    "\n",
    "    def forward(self, z):\n",
    "        h = F.relu(self.fc1(z))\n",
    "        h = F.relu(self.fc2(h))\n",
    "        return {\"probs\": torch.sigmoid(self.fc3(h))}\n",
    "\n",
    "\n",
    "# generative model p(y|z)    \n",
    "class GeneratorY(Categorical):\n",
    "    def __init__(self):\n",
    "        super(GeneratorY, self).__init__(cond_var=[\"z\"], var=[\"y\"], name=\"p\")\n",
    "\n",
    "        self.fc1 = nn.Linear(z_dim, 512)\n",
    "        self.fc2 = nn.Linear(512, 512)\n",
    "        self.fc3 = nn.Linear(512, y_dim)\n",
    "\n",
    "    def forward(self, z):\n",
    "        h = F.relu(self.fc1(z))\n",
    "        h = F.relu(self.fc2(h))\n",
    "        return {\"probs\": F.softmax(self.fc3(h), dim=1)}\n",
    "\n",
    "    \n",
    "# prior model p(z)\n",
    "prior = Normal(loc=torch.tensor(0.), scale=torch.tensor(1.),\n",
    "               var=[\"z\"], features_shape=[z_dim], name=\"p_{prior}\").to(device)\n",
    "\n",
    "p_x = GeneratorX().to(device)\n",
    "p_y = GeneratorY().to(device)\n",
    "p = p_x * p_y\n",
    "\n",
    "q_x = InferenceX().to(device)\n",
    "q_y = InferenceY().to(device)\n",
    "\n",
    "# equation (4) in the paper\n",
    "# \"we can use a product of experts (PoE), including a “prior expert”, as the approximating distribution for the joint-posterior\"\n",
    "# Pixyz docs: https://docs.pixyz.io/en/latest/distributions.html#pixyz.distributions.ProductOfNormal\n",
    "q = ProductOfNormal([q_x, q_y], name=\"q\").to(device)"
   ]
  },
  {
   "cell_type": "code",
   "execution_count": 5,
   "metadata": {},
   "outputs": [
    {
     "name": "stdout",
     "output_type": "stream",
     "text": [
      "Distribution:\n",
      "  q(z|x,y) \\propto p(z)q(z|x)q(z|y)\n",
      "Network architecture:\n",
      "  ProductOfNormal(\n",
      "    name=q, distribution_name=Normal,\n",
      "    var=['z'], cond_var=['x', 'y'], input_var=['x', 'y'], features_shape=torch.Size([])\n",
      "    (p): ModuleList(\n",
      "      (0): InferenceX(\n",
      "        name=q, distribution_name=Normal,\n",
      "        var=['z'], cond_var=['x'], input_var=['x'], features_shape=torch.Size([])\n",
      "        (fc1): Linear(in_features=784, out_features=512, bias=True)\n",
      "        (fc2): Linear(in_features=512, out_features=512, bias=True)\n",
      "        (fc31): Linear(in_features=512, out_features=64, bias=True)\n",
      "        (fc32): Linear(in_features=512, out_features=64, bias=True)\n",
      "      )\n",
      "      (1): InferenceY(\n",
      "        name=q, distribution_name=Normal,\n",
      "        var=['z'], cond_var=['y'], input_var=['y'], features_shape=torch.Size([])\n",
      "        (fc1): Linear(in_features=10, out_features=512, bias=True)\n",
      "        (fc2): Linear(in_features=512, out_features=512, bias=True)\n",
      "        (fc31): Linear(in_features=512, out_features=64, bias=True)\n",
      "        (fc32): Linear(in_features=512, out_features=64, bias=True)\n",
      "      )\n",
      "    )\n",
      "  )\n"
     ]
    },
    {
     "data": {
      "text/latex": [
       "$$q(z|x,y) \\propto p(z)q(z|x)q(z|y)$$"
      ],
      "text/plain": [
       "<IPython.core.display.Math object>"
      ]
     },
     "execution_count": 5,
     "metadata": {},
     "output_type": "execute_result"
    }
   ],
   "source": [
    "print(q)\n",
    "print_latex(q)"
   ]
  },
  {
   "cell_type": "code",
   "execution_count": 6,
   "metadata": {},
   "outputs": [
    {
     "name": "stdout",
     "output_type": "stream",
     "text": [
      "Distribution:\n",
      "  p(x,y|z) = p(x|z)p(y|z)\n",
      "Network architecture:\n",
      "  GeneratorY(\n",
      "    name=p, distribution_name=Categorical,\n",
      "    var=['y'], cond_var=['z'], input_var=['z'], features_shape=torch.Size([])\n",
      "    (fc1): Linear(in_features=64, out_features=512, bias=True)\n",
      "    (fc2): Linear(in_features=512, out_features=512, bias=True)\n",
      "    (fc3): Linear(in_features=512, out_features=10, bias=True)\n",
      "  )\n",
      "  GeneratorX(\n",
      "    name=p, distribution_name=Bernoulli,\n",
      "    var=['x'], cond_var=['z'], input_var=['z'], features_shape=torch.Size([])\n",
      "    (fc1): Linear(in_features=64, out_features=512, bias=True)\n",
      "    (fc2): Linear(in_features=512, out_features=512, bias=True)\n",
      "    (fc3): Linear(in_features=512, out_features=784, bias=True)\n",
      "  )\n"
     ]
    },
    {
     "data": {
      "text/latex": [
       "$$p(x,y|z) = p(x|z)p(y|z)$$"
      ],
      "text/plain": [
       "<IPython.core.display.Math object>"
      ]
     },
     "execution_count": 6,
     "metadata": {},
     "output_type": "execute_result"
    }
   ],
   "source": [
    "print(p)\n",
    "print_latex(p)"
   ]
  },
  {
   "cell_type": "markdown",
   "metadata": {},
   "source": [
    "## Define Loss function\n",
    "$\\cal L = \\mathrm{ELBO}\\left(x_{1}, \\ldots, x_{N}\\right)+\\sum_{i=1}^{N} \\mathrm{ELBO}\\left(x_{i}\\right)+\\sum_{j=1}^{k} \\mathrm{ELBO}\\left(X_{j}\\right)$"
   ]
  },
  {
   "cell_type": "code",
   "execution_count": 7,
   "metadata": {},
   "outputs": [],
   "source": [
    "from pixyz.losses import KullbackLeibler\n",
    "from pixyz.losses import LogProb\n",
    "from pixyz.losses import Expectation as E"
   ]
  },
  {
   "cell_type": "code",
   "execution_count": 8,
   "metadata": {},
   "outputs": [
    {
     "data": {
      "text/latex": [
       "$$mean \\left(D_{KL} \\left[q(z|x)||p_{prior}(z) \\right] - \\mathbb{E}_{q(z|x)} \\left[\\log p(x|z) \\right] \\right) + mean \\left(D_{KL} \\left[q(z|x,y)||p_{prior}(z) \\right] - \\mathbb{E}_{q(z|x,y)} \\left[\\log p(x,y|z) \\right] \\right) + mean \\left(D_{KL} \\left[q(z|y)||p_{prior}(z) \\right] - \\mathbb{E}_{q(z|y)} \\left[\\log p(y|z) \\right] \\right)$$"
      ],
      "text/plain": [
       "<IPython.core.display.Math object>"
      ]
     },
     "execution_count": 8,
     "metadata": {},
     "output_type": "execute_result"
    }
   ],
   "source": [
    "ELBO = -E(q, LogProb(p)) + KullbackLeibler(q, prior)\n",
    "ELBO_x = -E(q_x, LogProb(p_x)) + KullbackLeibler(q_x, prior)\n",
    "ELBO_y = -E(q_y, LogProb(p_y)) + KullbackLeibler(q_y, prior)\n",
    "\n",
    "loss = ELBO.mean() + ELBO_x.mean() + ELBO_y.mean()\n",
    "print_latex(loss) # Note: Terms in the printed loss may be reordered"
   ]
  },
  {
   "cell_type": "markdown",
   "metadata": {},
   "source": [
    "## Define MVAE model using Model Class"
   ]
  },
  {
   "cell_type": "code",
   "execution_count": 9,
   "metadata": {},
   "outputs": [
    {
     "name": "stdout",
     "output_type": "stream",
     "text": [
      "Distributions (for training): \n",
      "  p(x|z), p(y|z), q(z|x), q(z|y) \n",
      "Loss function: \n",
      "  mean \\left(D_{KL} \\left[q(z|x)||p_{prior}(z) \\right] - \\mathbb{E}_{q(z|x)} \\left[\\log p(x|z) \\right] \\right) + mean \\left(D_{KL} \\left[q(z|x,y)||p_{prior}(z) \\right] - \\mathbb{E}_{q(z|x,y)} \\left[\\log p(x,y|z) \\right] \\right) + mean \\left(D_{KL} \\left[q(z|y)||p_{prior}(z) \\right] - \\mathbb{E}_{q(z|y)} \\left[\\log p(y|z) \\right] \\right) \n",
      "Optimizer: \n",
      "  Adam (\n",
      "  Parameter Group 0\n",
      "      amsgrad: False\n",
      "      betas: (0.9, 0.999)\n",
      "      eps: 1e-08\n",
      "      lr: 0.001\n",
      "      weight_decay: 0\n",
      "  )\n"
     ]
    },
    {
     "data": {
      "text/latex": [
       "$$mean \\left(D_{KL} \\left[q(z|x)||p_{prior}(z) \\right] - \\mathbb{E}_{q(z|x)} \\left[\\log p(x|z) \\right] \\right) + mean \\left(D_{KL} \\left[q(z|x,y)||p_{prior}(z) \\right] - \\mathbb{E}_{q(z|x,y)} \\left[\\log p(x,y|z) \\right] \\right) + mean \\left(D_{KL} \\left[q(z|y)||p_{prior}(z) \\right] - \\mathbb{E}_{q(z|y)} \\left[\\log p(y|z) \\right] \\right)$$"
      ],
      "text/plain": [
       "<IPython.core.display.Math object>"
      ]
     },
     "execution_count": 9,
     "metadata": {},
     "output_type": "execute_result"
    }
   ],
   "source": [
    "from pixyz.models import Model\n",
    "model = Model(loss=loss, distributions=[p_x, p_y, q_x, q_y],\n",
    "              optimizer=optim.Adam, optimizer_params={\"lr\":1e-3})\n",
    "print(model)\n",
    "print_latex(model)"
   ]
  },
  {
   "cell_type": "markdown",
   "metadata": {},
   "source": [
    "## Define Train and Test loop using model"
   ]
  },
  {
   "cell_type": "code",
   "execution_count": 10,
   "metadata": {},
   "outputs": [],
   "source": [
    "def train(epoch):\n",
    "    train_loss = 0\n",
    "    for x, y in tqdm(train_loader):\n",
    "        x = x.to(device)\n",
    "        y = torch.eye(10)[y].to(device)        \n",
    "        loss = model.train({\"x\": x, \"y\": y})\n",
    "        train_loss += loss\n",
    " \n",
    "    train_loss = train_loss * train_loader.batch_size / len(train_loader.dataset)\n",
    "    print('Epoch: {} Train loss: {:.4f}'.format(epoch, train_loss))\n",
    "    return train_loss"
   ]
  },
  {
   "cell_type": "code",
   "execution_count": 11,
   "metadata": {},
   "outputs": [],
   "source": [
    "def test(epoch):\n",
    "    test_loss = 0\n",
    "    for x, y in test_loader:\n",
    "        x = x.to(device)\n",
    "        y = torch.eye(10)[y].to(device)\n",
    "        loss = model.test({\"x\": x, \"y\": y})\n",
    "        test_loss += loss\n",
    "\n",
    "    test_loss = test_loss * test_loader.batch_size / len(test_loader.dataset)\n",
    "    print('Test loss: {:.4f}'.format(test_loss))\n",
    "    return test_loss"
   ]
  },
  {
   "cell_type": "markdown",
   "metadata": {},
   "source": [
    "## Reconstruction and generation"
   ]
  },
  {
   "cell_type": "code",
   "execution_count": 12,
   "metadata": {},
   "outputs": [],
   "source": [
    "def plot_reconstrunction_missing_label_modality(x):\n",
    "    with torch.no_grad():\n",
    "        # infer from x (image modality) only\n",
    "        z = q_x.sample({\"x\": x}, return_all=False)\n",
    "        # generate image from latent variable\n",
    "        recon_batch = p_x.sample_mean(z).view(-1, 1, 28, 28)\n",
    "    \n",
    "        comparison = torch.cat([x.view(-1, 1, 28, 28), recon_batch]).cpu()\n",
    "        return comparison\n",
    "    \n",
    "def plot_image_from_label(x, y):\n",
    "    with torch.no_grad():\n",
    "        x_all = [x.view(-1, 1, 28, 28)]\n",
    "        for i in range(7):\n",
    "            # infer from y (label modality) only\n",
    "            z = q_y.sample({\"y\": y}, return_all=False)\n",
    "            \n",
    "            # generate image from latent variable\n",
    "            recon_batch = p_x.sample_mean(z).view(-1, 1, 28, 28)\n",
    "            x_all.append(recon_batch)\n",
    "    \n",
    "        comparison = torch.cat(x_all).cpu()\n",
    "        return comparison\n",
    "\n",
    "def plot_reconstrunction(x, y):\n",
    "    with torch.no_grad():\n",
    "        # infer from x and y\n",
    "        z = q.sample({\"x\": x, \"y\": y}, return_all=False)\n",
    "        # generate image from latent variable\n",
    "        recon_batch = p_x.sample_mean(z).view(-1, 1, 28, 28)\n",
    "    \n",
    "        comparison = torch.cat([x.view(-1, 1, 28, 28), recon_batch]).cpu()\n",
    "        return comparison"
   ]
  },
  {
   "cell_type": "code",
   "execution_count": null,
   "metadata": {},
   "outputs": [],
   "source": [
    "import datetime\n",
    "\n",
    "dt_now = datetime.datetime.now()\n",
    "exp_time = dt_now.strftime('%Y%m%d_%H:%M:%S')"
   ]
  },
  {
   "cell_type": "code",
   "execution_count": 13,
   "metadata": {},
   "outputs": [
    {
     "name": "stderr",
     "output_type": "stream",
     "text": [
      "100%|██████████| 469/469 [00:29<00:00, 15.98it/s]"
     ]
    },
    {
     "name": "stdout",
     "output_type": "stream",
     "text": [
      "Epoch: 1 Train loss: 377.4446\n"
     ]
    },
    {
     "name": "stderr",
     "output_type": "stream",
     "text": [
      "\n",
      "  0%|          | 0/469 [00:00<?, ?it/s]"
     ]
    },
    {
     "name": "stdout",
     "output_type": "stream",
     "text": [
      "Test loss: 297.8822\n"
     ]
    },
    {
     "name": "stderr",
     "output_type": "stream",
     "text": [
      "100%|██████████| 469/469 [00:29<00:00, 15.87it/s]"
     ]
    },
    {
     "name": "stdout",
     "output_type": "stream",
     "text": [
      "Epoch: 2 Train loss: 275.6488\n"
     ]
    },
    {
     "name": "stderr",
     "output_type": "stream",
     "text": [
      "\n",
      "  0%|          | 0/469 [00:00<?, ?it/s]"
     ]
    },
    {
     "name": "stdout",
     "output_type": "stream",
     "text": [
      "Test loss: 263.0328\n"
     ]
    },
    {
     "name": "stderr",
     "output_type": "stream",
     "text": [
      "100%|██████████| 469/469 [00:29<00:00, 15.85it/s]\n"
     ]
    },
    {
     "name": "stdout",
     "output_type": "stream",
     "text": [
      "Epoch: 3 Train loss: 255.8915\n"
     ]
    },
    {
     "name": "stderr",
     "output_type": "stream",
     "text": [
      "  0%|          | 0/469 [00:00<?, ?it/s]"
     ]
    },
    {
     "name": "stdout",
     "output_type": "stream",
     "text": [
      "Test loss: 251.6184\n"
     ]
    },
    {
     "name": "stderr",
     "output_type": "stream",
     "text": [
      "100%|██████████| 469/469 [00:28<00:00, 16.47it/s]"
     ]
    },
    {
     "name": "stdout",
     "output_type": "stream",
     "text": [
      "Epoch: 4 Train loss: 246.7766\n"
     ]
    },
    {
     "name": "stderr",
     "output_type": "stream",
     "text": [
      "\n",
      "  0%|          | 0/469 [00:00<?, ?it/s]"
     ]
    },
    {
     "name": "stdout",
     "output_type": "stream",
     "text": [
      "Test loss: 244.7460\n"
     ]
    },
    {
     "name": "stderr",
     "output_type": "stream",
     "text": [
      "100%|██████████| 469/469 [00:28<00:00, 16.52it/s]\n"
     ]
    },
    {
     "name": "stdout",
     "output_type": "stream",
     "text": [
      "Epoch: 5 Train loss: 240.5835\n"
     ]
    },
    {
     "name": "stderr",
     "output_type": "stream",
     "text": [
      "  0%|          | 0/469 [00:00<?, ?it/s]"
     ]
    },
    {
     "name": "stdout",
     "output_type": "stream",
     "text": [
      "Test loss: 239.4675\n"
     ]
    },
    {
     "name": "stderr",
     "output_type": "stream",
     "text": [
      "100%|██████████| 469/469 [00:29<00:00, 16.03it/s]\n"
     ]
    },
    {
     "name": "stdout",
     "output_type": "stream",
     "text": [
      "Epoch: 6 Train loss: 236.3628\n"
     ]
    },
    {
     "name": "stderr",
     "output_type": "stream",
     "text": [
      "  0%|          | 0/469 [00:00<?, ?it/s]"
     ]
    },
    {
     "name": "stdout",
     "output_type": "stream",
     "text": [
      "Test loss: 236.4568\n"
     ]
    },
    {
     "name": "stderr",
     "output_type": "stream",
     "text": [
      "100%|██████████| 469/469 [00:29<00:00, 16.15it/s]\n"
     ]
    },
    {
     "name": "stdout",
     "output_type": "stream",
     "text": [
      "Epoch: 7 Train loss: 233.0534\n"
     ]
    },
    {
     "name": "stderr",
     "output_type": "stream",
     "text": [
      "  0%|          | 0/469 [00:00<?, ?it/s]"
     ]
    },
    {
     "name": "stdout",
     "output_type": "stream",
     "text": [
      "Test loss: 233.7300\n"
     ]
    },
    {
     "name": "stderr",
     "output_type": "stream",
     "text": [
      "100%|██████████| 469/469 [00:30<00:00, 15.43it/s]\n"
     ]
    },
    {
     "name": "stdout",
     "output_type": "stream",
     "text": [
      "Epoch: 8 Train loss: 230.8085\n"
     ]
    },
    {
     "name": "stderr",
     "output_type": "stream",
     "text": [
      "  0%|          | 0/469 [00:00<?, ?it/s]"
     ]
    },
    {
     "name": "stdout",
     "output_type": "stream",
     "text": [
      "Test loss: 231.8841\n"
     ]
    },
    {
     "name": "stderr",
     "output_type": "stream",
     "text": [
      "100%|██████████| 469/469 [00:29<00:00, 15.84it/s]\n"
     ]
    },
    {
     "name": "stdout",
     "output_type": "stream",
     "text": [
      "Epoch: 9 Train loss: 229.0455\n"
     ]
    },
    {
     "name": "stderr",
     "output_type": "stream",
     "text": [
      "  0%|          | 0/469 [00:00<?, ?it/s]"
     ]
    },
    {
     "name": "stdout",
     "output_type": "stream",
     "text": [
      "Test loss: 230.5546\n"
     ]
    },
    {
     "name": "stderr",
     "output_type": "stream",
     "text": [
      "100%|██████████| 469/469 [00:29<00:00, 16.07it/s]"
     ]
    },
    {
     "name": "stdout",
     "output_type": "stream",
     "text": [
      "Epoch: 10 Train loss: 227.6146\n"
     ]
    },
    {
     "name": "stderr",
     "output_type": "stream",
     "text": [
      "\n",
      "  0%|          | 0/469 [00:00<?, ?it/s]"
     ]
    },
    {
     "name": "stdout",
     "output_type": "stream",
     "text": [
      "Test loss: 229.4565\n"
     ]
    },
    {
     "name": "stderr",
     "output_type": "stream",
     "text": [
      "100%|██████████| 469/469 [00:29<00:00, 15.85it/s]\n"
     ]
    },
    {
     "name": "stdout",
     "output_type": "stream",
     "text": [
      "Epoch: 11 Train loss: 226.2698\n"
     ]
    },
    {
     "name": "stderr",
     "output_type": "stream",
     "text": [
      "  0%|          | 0/469 [00:00<?, ?it/s]"
     ]
    },
    {
     "name": "stdout",
     "output_type": "stream",
     "text": [
      "Test loss: 227.8539\n"
     ]
    },
    {
     "name": "stderr",
     "output_type": "stream",
     "text": [
      "100%|██████████| 469/469 [00:28<00:00, 16.43it/s]\n"
     ]
    },
    {
     "name": "stdout",
     "output_type": "stream",
     "text": [
      "Epoch: 12 Train loss: 224.9455\n"
     ]
    },
    {
     "name": "stderr",
     "output_type": "stream",
     "text": [
      "  0%|          | 0/469 [00:00<?, ?it/s]"
     ]
    },
    {
     "name": "stdout",
     "output_type": "stream",
     "text": [
      "Test loss: 228.2061\n"
     ]
    },
    {
     "name": "stderr",
     "output_type": "stream",
     "text": [
      "100%|██████████| 469/469 [00:29<00:00, 15.69it/s]\n"
     ]
    },
    {
     "name": "stdout",
     "output_type": "stream",
     "text": [
      "Epoch: 13 Train loss: 224.0336\n"
     ]
    },
    {
     "name": "stderr",
     "output_type": "stream",
     "text": [
      "  0%|          | 0/469 [00:00<?, ?it/s]"
     ]
    },
    {
     "name": "stdout",
     "output_type": "stream",
     "text": [
      "Test loss: 226.7854\n"
     ]
    },
    {
     "name": "stderr",
     "output_type": "stream",
     "text": [
      "100%|██████████| 469/469 [00:30<00:00, 15.48it/s]"
     ]
    },
    {
     "name": "stdout",
     "output_type": "stream",
     "text": [
      "Epoch: 14 Train loss: 223.1099\n"
     ]
    },
    {
     "name": "stderr",
     "output_type": "stream",
     "text": [
      "\n",
      "  0%|          | 0/469 [00:00<?, ?it/s]"
     ]
    },
    {
     "name": "stdout",
     "output_type": "stream",
     "text": [
      "Test loss: 226.1085\n"
     ]
    },
    {
     "name": "stderr",
     "output_type": "stream",
     "text": [
      "100%|██████████| 469/469 [00:28<00:00, 16.32it/s]\n"
     ]
    },
    {
     "name": "stdout",
     "output_type": "stream",
     "text": [
      "Epoch: 15 Train loss: 222.4037\n"
     ]
    },
    {
     "name": "stderr",
     "output_type": "stream",
     "text": [
      "  0%|          | 0/469 [00:00<?, ?it/s]"
     ]
    },
    {
     "name": "stdout",
     "output_type": "stream",
     "text": [
      "Test loss: 225.8082\n"
     ]
    },
    {
     "name": "stderr",
     "output_type": "stream",
     "text": [
      "100%|██████████| 469/469 [00:30<00:00, 15.55it/s]\n"
     ]
    },
    {
     "name": "stdout",
     "output_type": "stream",
     "text": [
      "Epoch: 16 Train loss: 221.7075\n"
     ]
    },
    {
     "name": "stderr",
     "output_type": "stream",
     "text": [
      "  0%|          | 0/469 [00:00<?, ?it/s]"
     ]
    },
    {
     "name": "stdout",
     "output_type": "stream",
     "text": [
      "Test loss: 225.0872\n"
     ]
    },
    {
     "name": "stderr",
     "output_type": "stream",
     "text": [
      "100%|██████████| 469/469 [00:28<00:00, 16.24it/s]\n"
     ]
    },
    {
     "name": "stdout",
     "output_type": "stream",
     "text": [
      "Epoch: 17 Train loss: 221.2034\n"
     ]
    },
    {
     "name": "stderr",
     "output_type": "stream",
     "text": [
      "  0%|          | 0/469 [00:00<?, ?it/s]"
     ]
    },
    {
     "name": "stdout",
     "output_type": "stream",
     "text": [
      "Test loss: 224.8409\n"
     ]
    },
    {
     "name": "stderr",
     "output_type": "stream",
     "text": [
      "100%|██████████| 469/469 [00:29<00:00, 15.80it/s]\n"
     ]
    },
    {
     "name": "stdout",
     "output_type": "stream",
     "text": [
      "Epoch: 18 Train loss: 220.7850\n"
     ]
    },
    {
     "name": "stderr",
     "output_type": "stream",
     "text": [
      "  0%|          | 0/469 [00:00<?, ?it/s]"
     ]
    },
    {
     "name": "stdout",
     "output_type": "stream",
     "text": [
      "Test loss: 224.4209\n"
     ]
    },
    {
     "name": "stderr",
     "output_type": "stream",
     "text": [
      "100%|██████████| 469/469 [00:30<00:00, 15.56it/s]\n"
     ]
    },
    {
     "name": "stdout",
     "output_type": "stream",
     "text": [
      "Epoch: 19 Train loss: 220.2818\n"
     ]
    },
    {
     "name": "stderr",
     "output_type": "stream",
     "text": [
      "  0%|          | 0/469 [00:00<?, ?it/s]"
     ]
    },
    {
     "name": "stdout",
     "output_type": "stream",
     "text": [
      "Test loss: 223.8716\n"
     ]
    },
    {
     "name": "stderr",
     "output_type": "stream",
     "text": [
      "100%|██████████| 469/469 [00:30<00:00, 15.23it/s]\n"
     ]
    },
    {
     "name": "stdout",
     "output_type": "stream",
     "text": [
      "Epoch: 20 Train loss: 219.7862\n"
     ]
    },
    {
     "name": "stderr",
     "output_type": "stream",
     "text": [
      "  0%|          | 0/469 [00:00<?, ?it/s]"
     ]
    },
    {
     "name": "stdout",
     "output_type": "stream",
     "text": [
      "Test loss: 223.8801\n"
     ]
    },
    {
     "name": "stderr",
     "output_type": "stream",
     "text": [
      "100%|██████████| 469/469 [00:30<00:00, 15.21it/s]\n"
     ]
    },
    {
     "name": "stdout",
     "output_type": "stream",
     "text": [
      "Epoch: 21 Train loss: 219.3984\n"
     ]
    },
    {
     "name": "stderr",
     "output_type": "stream",
     "text": [
      "  0%|          | 0/469 [00:00<?, ?it/s]"
     ]
    },
    {
     "name": "stdout",
     "output_type": "stream",
     "text": [
      "Test loss: 223.7502\n"
     ]
    },
    {
     "name": "stderr",
     "output_type": "stream",
     "text": [
      "100%|██████████| 469/469 [00:28<00:00, 16.39it/s]\n"
     ]
    },
    {
     "name": "stdout",
     "output_type": "stream",
     "text": [
      "Epoch: 22 Train loss: 219.1016\n"
     ]
    },
    {
     "name": "stderr",
     "output_type": "stream",
     "text": [
      "  0%|          | 0/469 [00:00<?, ?it/s]"
     ]
    },
    {
     "name": "stdout",
     "output_type": "stream",
     "text": [
      "Test loss: 223.2690\n"
     ]
    },
    {
     "name": "stderr",
     "output_type": "stream",
     "text": [
      "100%|██████████| 469/469 [00:30<00:00, 15.49it/s]\n"
     ]
    },
    {
     "name": "stdout",
     "output_type": "stream",
     "text": [
      "Epoch: 23 Train loss: 218.7089\n"
     ]
    },
    {
     "name": "stderr",
     "output_type": "stream",
     "text": [
      "  0%|          | 0/469 [00:00<?, ?it/s]"
     ]
    },
    {
     "name": "stdout",
     "output_type": "stream",
     "text": [
      "Test loss: 223.5728\n"
     ]
    },
    {
     "name": "stderr",
     "output_type": "stream",
     "text": [
      "100%|██████████| 469/469 [00:28<00:00, 16.34it/s]\n"
     ]
    },
    {
     "name": "stdout",
     "output_type": "stream",
     "text": [
      "Epoch: 24 Train loss: 218.5097\n"
     ]
    },
    {
     "name": "stderr",
     "output_type": "stream",
     "text": [
      "  0%|          | 0/469 [00:00<?, ?it/s]"
     ]
    },
    {
     "name": "stdout",
     "output_type": "stream",
     "text": [
      "Test loss: 223.0242\n"
     ]
    },
    {
     "name": "stderr",
     "output_type": "stream",
     "text": [
      "100%|██████████| 469/469 [00:29<00:00, 16.03it/s]\n"
     ]
    },
    {
     "name": "stdout",
     "output_type": "stream",
     "text": [
      "Epoch: 25 Train loss: 218.2024\n"
     ]
    },
    {
     "name": "stderr",
     "output_type": "stream",
     "text": [
      "  0%|          | 0/469 [00:00<?, ?it/s]"
     ]
    },
    {
     "name": "stdout",
     "output_type": "stream",
     "text": [
      "Test loss: 223.3938\n"
     ]
    },
    {
     "name": "stderr",
     "output_type": "stream",
     "text": [
      "100%|██████████| 469/469 [00:29<00:00, 16.17it/s]\n"
     ]
    },
    {
     "name": "stdout",
     "output_type": "stream",
     "text": [
      "Epoch: 26 Train loss: 217.8878\n"
     ]
    },
    {
     "name": "stderr",
     "output_type": "stream",
     "text": [
      "  0%|          | 0/469 [00:00<?, ?it/s]"
     ]
    },
    {
     "name": "stdout",
     "output_type": "stream",
     "text": [
      "Test loss: 223.2734\n"
     ]
    },
    {
     "name": "stderr",
     "output_type": "stream",
     "text": [
      "100%|██████████| 469/469 [00:29<00:00, 16.17it/s]\n"
     ]
    },
    {
     "name": "stdout",
     "output_type": "stream",
     "text": [
      "Epoch: 27 Train loss: 217.6303\n"
     ]
    },
    {
     "name": "stderr",
     "output_type": "stream",
     "text": [
      "  0%|          | 0/469 [00:00<?, ?it/s]"
     ]
    },
    {
     "name": "stdout",
     "output_type": "stream",
     "text": [
      "Test loss: 223.0314\n"
     ]
    },
    {
     "name": "stderr",
     "output_type": "stream",
     "text": [
      "100%|██████████| 469/469 [00:29<00:00, 15.76it/s]\n"
     ]
    },
    {
     "name": "stdout",
     "output_type": "stream",
     "text": [
      "Epoch: 28 Train loss: 217.3718\n"
     ]
    },
    {
     "name": "stderr",
     "output_type": "stream",
     "text": [
      "  0%|          | 0/469 [00:00<?, ?it/s]"
     ]
    },
    {
     "name": "stdout",
     "output_type": "stream",
     "text": [
      "Test loss: 222.6581\n"
     ]
    },
    {
     "name": "stderr",
     "output_type": "stream",
     "text": [
      "100%|██████████| 469/469 [00:30<00:00, 15.63it/s]"
     ]
    },
    {
     "name": "stdout",
     "output_type": "stream",
     "text": [
      "Epoch: 29 Train loss: 217.0927\n"
     ]
    },
    {
     "name": "stderr",
     "output_type": "stream",
     "text": [
      "\n",
      "  0%|          | 0/469 [00:00<?, ?it/s]"
     ]
    },
    {
     "name": "stdout",
     "output_type": "stream",
     "text": [
      "Test loss: 222.6385\n"
     ]
    },
    {
     "name": "stderr",
     "output_type": "stream",
     "text": [
      "100%|██████████| 469/469 [00:29<00:00, 16.15it/s]"
     ]
    },
    {
     "name": "stdout",
     "output_type": "stream",
     "text": [
      "Epoch: 30 Train loss: 216.8493\n"
     ]
    },
    {
     "name": "stderr",
     "output_type": "stream",
     "text": [
      "\n",
      "  0%|          | 0/469 [00:00<?, ?it/s]"
     ]
    },
    {
     "name": "stdout",
     "output_type": "stream",
     "text": [
      "Test loss: 222.1671\n"
     ]
    },
    {
     "name": "stderr",
     "output_type": "stream",
     "text": [
      "100%|██████████| 469/469 [00:29<00:00, 15.70it/s]\n"
     ]
    },
    {
     "name": "stdout",
     "output_type": "stream",
     "text": [
      "Epoch: 31 Train loss: 216.7484\n"
     ]
    },
    {
     "name": "stderr",
     "output_type": "stream",
     "text": [
      "  0%|          | 0/469 [00:00<?, ?it/s]"
     ]
    },
    {
     "name": "stdout",
     "output_type": "stream",
     "text": [
      "Test loss: 222.3781\n"
     ]
    },
    {
     "name": "stderr",
     "output_type": "stream",
     "text": [
      "100%|██████████| 469/469 [00:28<00:00, 16.47it/s]\n"
     ]
    },
    {
     "name": "stdout",
     "output_type": "stream",
     "text": [
      "Epoch: 32 Train loss: 216.4953\n"
     ]
    },
    {
     "name": "stderr",
     "output_type": "stream",
     "text": [
      "  0%|          | 0/469 [00:00<?, ?it/s]"
     ]
    },
    {
     "name": "stdout",
     "output_type": "stream",
     "text": [
      "Test loss: 221.8737\n"
     ]
    },
    {
     "name": "stderr",
     "output_type": "stream",
     "text": [
      "  8%|▊         | 36/469 [00:02<00:31, 13.94it/s]"
     ]
    }
   ],
   "source": [
    "# for visualising in TensorBoard\n",
    "import pixyz\n",
    "v = pixyz.__version__\n",
    "writer = SummaryWriter(\"runs/\" + v + \".mvae\"  + exp_time)\n",
    "\n",
    "\n",
    "plot_number = 1\n",
    "\n",
    "# set-aside observation for watching generative model improvement \n",
    "_x, _y = iter(test_loader).next()\n",
    "_x = _x.to(device)\n",
    "_y = torch.eye(10)[_y].to(device)\n",
    "\n",
    "import time\n",
    "start = time.time()\n",
    "\n",
    "for epoch in range(1, epochs + 1):\n",
    "    train_loss = train(epoch)\n",
    "    test_loss = test(epoch)\n",
    "    \n",
    "    recon = plot_reconstrunction(_x[:8], _y[:8])\n",
    "    sample = plot_image_from_label(_x[:8], _y[:8])\n",
    "    recon_missing = plot_reconstrunction_missing_label_modality(_x[:8])\n",
    "\n",
    "    writer.add_scalar('train_loss', train_loss.item(), epoch)\n",
    "    writer.add_scalar('test_loss', test_loss.item(), epoch)      \n",
    "\n",
    "    writer.add_images('Image_from_label', sample, epoch)\n",
    "    writer.add_images('Image_reconstrunction', recon, epoch)    \n",
    "    writer.add_images('Image_reconstrunction_missing_label', recon_missing, epoch)\n",
    "elapsed_time = time.time() - start\n",
    "writer.add_scalar('Exp time second', elapsed_time) \n",
    "writer.close()"
   ]
  },
  {
   "cell_type": "code",
   "execution_count": 14,
   "metadata": {},
   "outputs": [],
   "source": []
  }
 ],
 "metadata": {
  "kernelspec": {
   "display_name": "Python 3",
   "language": "python",
   "name": "python3"
  },
  "language_info": {
   "codemirror_mode": {
    "name": "ipython",
    "version": 3
   },
   "file_extension": ".py",
   "mimetype": "text/x-python",
   "name": "python",
   "nbconvert_exporter": "python",
   "pygments_lexer": "ipython3",
   "version": "3.8.5"
  }
 },
 "nbformat": 4,
 "nbformat_minor": 4
}
