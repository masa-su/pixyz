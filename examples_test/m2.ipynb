{
 "cells": [
  {
   "cell_type": "markdown",
   "metadata": {},
   "source": [
    "# Semi-supervised learning with M2 model"
   ]
  },
  {
   "cell_type": "code",
   "execution_count": 1,
   "metadata": {},
   "outputs": [],
   "source": [
    "from __future__ import print_function\n",
    "import torch\n",
    "import torch.utils.data\n",
    "from torch import nn, optim\n",
    "from torch.nn import functional as F\n",
    "from torchvision import transforms\n",
    "from tensorboardX import SummaryWriter\n",
    "\n",
    "from tqdm import tqdm\n",
    "\n",
    "batch_size = 128\n",
    "epochs = 10\n",
    "seed = 1\n",
    "torch.manual_seed(seed)\n",
    "\n",
    "if torch.cuda.is_available():\n",
    "    device = \"cuda\"\n",
    "else:\n",
    "    device = \"cpu\""
   ]
  },
  {
   "cell_type": "code",
   "execution_count": 2,
   "metadata": {},
   "outputs": [],
   "source": [
    "# https://github.com/wohlert/semi-supervised-pytorch/blob/master/examples/notebooks/datautils.py\n",
    "\n",
    "from functools import reduce\n",
    "from operator import __or__\n",
    "from torch.utils.data.sampler import SubsetRandomSampler\n",
    "from torchvision.datasets import MNIST\n",
    "import numpy as np\n",
    "\n",
    "labels_per_class = 10\n",
    "n_labels = 10\n",
    "\n",
    "root = '../data'\n",
    "transform = transforms.Compose([transforms.ToTensor(),\n",
    "                                transforms.Lambda(lambd=lambda x: x.view(-1))])\n",
    "\n",
    "mnist_train = MNIST(root=root, train=True, download=True, transform=transform)\n",
    "mnist_valid = MNIST(root=root, train=False, transform=transform)\n",
    "\n",
    "\n",
    "def get_sampler(labels, n=None):\n",
    "    # Only choose digits in n_labels\n",
    "    (indices,) = np.where(reduce(__or__, [labels == i for i in np.arange(n_labels)]))\n",
    "\n",
    "    # Ensure uniform distribution of labels\n",
    "    np.random.shuffle(indices)\n",
    "    indices = np.hstack([list(filter(lambda idx: labels[idx] == i, indices))[:n] for i in range(n_labels)])\n",
    "\n",
    "    indices = torch.from_numpy(indices)\n",
    "    sampler = SubsetRandomSampler(indices)\n",
    "    return sampler\n",
    "\n",
    "\n",
    "# Dataloaders for MNIST\n",
    "kwargs = {'num_workers': 1, 'pin_memory': True}\n",
    "labelled = torch.utils.data.DataLoader(mnist_train, batch_size=batch_size,\n",
    "                                       sampler=get_sampler(mnist_train.targets.numpy(), labels_per_class),\n",
    "                                       **kwargs)\n",
    "unlabelled = torch.utils.data.DataLoader(mnist_train, batch_size=batch_size,\n",
    "                                         sampler=get_sampler(mnist_train.targets.numpy()), **kwargs)\n",
    "validation = torch.utils.data.DataLoader(mnist_valid, batch_size=batch_size,\n",
    "                                         sampler=get_sampler(mnist_valid.targets.numpy()), **kwargs)\n"
   ]
  },
  {
   "cell_type": "code",
   "execution_count": 3,
   "metadata": {},
   "outputs": [],
   "source": [
    "from pixyz.distributions import Normal, Bernoulli, RelaxedCategorical, Categorical\n",
    "from pixyz.models import Model\n",
    "from pixyz.losses import ELBO\n",
    "from pixyz.utils import print_latex"
   ]
  },
  {
   "cell_type": "code",
   "execution_count": 4,
   "metadata": {},
   "outputs": [],
   "source": [
    "x_dim = 784\n",
    "y_dim = 10\n",
    "z_dim = 64\n",
    "\n",
    "\n",
    "# inference model q(z|x,y)\n",
    "class Inference(Normal):\n",
    "    def __init__(self):\n",
    "        super().__init__(cond_var=[\"x\",\"y\"], var=[\"z\"], name=\"q\")\n",
    "\n",
    "        self.fc1 = nn.Linear(x_dim+y_dim, 512)\n",
    "        self.fc21 = nn.Linear(512, z_dim)\n",
    "        self.fc22 = nn.Linear(512, z_dim)\n",
    "\n",
    "    def forward(self, x, y):\n",
    "        h = F.relu(self.fc1(torch.cat([x, y], 1)))\n",
    "        return {\"loc\": self.fc21(h), \"scale\": F.softplus(self.fc22(h))}\n",
    "\n",
    "    \n",
    "# generative model p(x|z,y)    \n",
    "class Generator(Bernoulli):\n",
    "    def __init__(self):\n",
    "        super().__init__(cond_var=[\"z\",\"y\"], var=[\"x\"], name=\"p\")\n",
    "\n",
    "        self.fc1 = nn.Linear(z_dim+y_dim, 512)\n",
    "        self.fc2 = nn.Linear(512, x_dim)\n",
    "\n",
    "    def forward(self, z, y):\n",
    "        h = F.relu(self.fc1(torch.cat([z, y], 1)))\n",
    "        return {\"probs\": torch.sigmoid(self.fc2(h))}\n",
    "\n",
    "\n",
    "# classifier p(y|x)\n",
    "class Classifier(RelaxedCategorical):\n",
    "    def __init__(self):\n",
    "        super(Classifier, self).__init__(cond_var=[\"x\"], var=[\"y\"], name=\"p\")\n",
    "        self.fc1 = nn.Linear(x_dim, 512)\n",
    "        self.fc2 = nn.Linear(512, y_dim)\n",
    "\n",
    "    def forward(self, x):\n",
    "        h = F.relu(self.fc1(x))\n",
    "        h = F.softmax(self.fc2(h), dim=1)\n",
    "        return {\"probs\": h}\n",
    "\n",
    "\n",
    "# prior model p(z)\n",
    "prior = Normal(loc=torch.tensor(0.), scale=torch.tensor(1.),\n",
    "               var=[\"z\"], features_shape=[z_dim], name=\"p_{prior}\").to(device)\n",
    "\n",
    "# distributions for supervised learning\n",
    "p = Generator().to(device)\n",
    "q = Inference().to(device)\n",
    "f = Classifier().to(device)\n",
    "p_joint = p * prior"
   ]
  },
  {
   "cell_type": "code",
   "execution_count": 5,
   "metadata": {},
   "outputs": [
    {
     "name": "stdout",
     "output_type": "stream",
     "text": [
      "Distribution:\n",
      "  p(x,z|y) = p(x|z,y)p_{prior}(z)\n",
      "Network architecture:\n",
      "  p_{prior}(z):\n",
      "  Normal(\n",
      "    name=p_{prior}, distribution_name=Normal,\n",
      "    var=['z'], cond_var=[], input_var=[], features_shape=torch.Size([64])\n",
      "    (loc): torch.Size([1, 64])\n",
      "    (scale): torch.Size([1, 64])\n",
      "  )\n",
      "  p(x|z,y):\n",
      "  Generator(\n",
      "    name=p, distribution_name=Bernoulli,\n",
      "    var=['x'], cond_var=['z', 'y'], input_var=['z', 'y'], features_shape=torch.Size([])\n",
      "    (fc1): Linear(in_features=74, out_features=512, bias=True)\n",
      "    (fc2): Linear(in_features=512, out_features=784, bias=True)\n",
      "  )\n"
     ]
    },
    {
     "data": {
      "text/latex": [
       "$\\displaystyle p(x,z|y) = p(x|z,y)p_{prior}(z)$"
      ],
      "text/plain": [
       "<IPython.core.display.Math object>"
      ]
     },
     "execution_count": 5,
     "metadata": {},
     "output_type": "execute_result"
    }
   ],
   "source": [
    "print(p_joint)\n",
    "print_latex(p_joint)"
   ]
  },
  {
   "cell_type": "code",
   "execution_count": 6,
   "metadata": {},
   "outputs": [
    {
     "name": "stdout",
     "output_type": "stream",
     "text": [
      "Distribution:\n",
      "  q(z|x,y)\n",
      "Network architecture:\n",
      "  Inference(\n",
      "    name=q, distribution_name=Normal,\n",
      "    var=['z'], cond_var=['x', 'y'], input_var=['x', 'y'], features_shape=torch.Size([])\n",
      "    (fc1): Linear(in_features=794, out_features=512, bias=True)\n",
      "    (fc21): Linear(in_features=512, out_features=64, bias=True)\n",
      "    (fc22): Linear(in_features=512, out_features=64, bias=True)\n",
      "  )\n"
     ]
    },
    {
     "data": {
      "text/latex": [
       "$\\displaystyle q(z|x,y)$"
      ],
      "text/plain": [
       "<IPython.core.display.Math object>"
      ]
     },
     "execution_count": 6,
     "metadata": {},
     "output_type": "execute_result"
    }
   ],
   "source": [
    "print(q)\n",
    "print_latex(q)"
   ]
  },
  {
   "cell_type": "code",
   "execution_count": 7,
   "metadata": {},
   "outputs": [
    {
     "name": "stdout",
     "output_type": "stream",
     "text": [
      "Distribution:\n",
      "  p(y|x)\n",
      "Network architecture:\n",
      "  Classifier(\n",
      "    name=p, distribution_name=RelaxedCategorical,\n",
      "    var=['y'], cond_var=['x'], input_var=['x'], features_shape=torch.Size([])\n",
      "    (temperature): torch.Size([1])\n",
      "    (fc1): Linear(in_features=784, out_features=512, bias=True)\n",
      "    (fc2): Linear(in_features=512, out_features=10, bias=True)\n",
      "  )\n"
     ]
    },
    {
     "data": {
      "text/latex": [
       "$\\displaystyle p(y|x)$"
      ],
      "text/plain": [
       "<IPython.core.display.Math object>"
      ]
     },
     "execution_count": 7,
     "metadata": {},
     "output_type": "execute_result"
    }
   ],
   "source": [
    "print(f)\n",
    "print_latex(f)"
   ]
  },
  {
   "cell_type": "code",
   "execution_count": 8,
   "metadata": {},
   "outputs": [
    {
     "name": "stdout",
     "output_type": "stream",
     "text": [
      "Distribution:\n",
      "  p(z,x_{u}|y_{u}) = p(x_{u}|z,y_{u})p_{prior}(z)\n",
      "Network architecture:\n",
      "  p_{prior}(z):\n",
      "  Normal(\n",
      "    name=p_{prior}, distribution_name=Normal,\n",
      "    var=['z'], cond_var=[], input_var=[], features_shape=torch.Size([64])\n",
      "    (loc): torch.Size([1, 64])\n",
      "    (scale): torch.Size([1, 64])\n",
      "  )\n",
      "  p(x_{u}|z,y_{u}) -> p(x|z,y):\n",
      "  Generator(\n",
      "    name=p, distribution_name=Bernoulli,\n",
      "    var=['x'], cond_var=['z', 'y'], input_var=['z', 'y'], features_shape=torch.Size([])\n",
      "    (fc1): Linear(in_features=74, out_features=512, bias=True)\n",
      "    (fc2): Linear(in_features=512, out_features=784, bias=True)\n",
      "  )\n"
     ]
    },
    {
     "data": {
      "text/latex": [
       "$\\displaystyle p(z,x_{u}|y_{u}) = p(x_{u}|z,y_{u})p_{prior}(z)$"
      ],
      "text/plain": [
       "<IPython.core.display.Math object>"
      ]
     },
     "execution_count": 8,
     "metadata": {},
     "output_type": "execute_result"
    }
   ],
   "source": [
    "# distributions for unsupervised learning\n",
    "_q_u = q.replace_var(x=\"x_u\", y=\"y_u\")\n",
    "p_u = p.replace_var(x=\"x_u\", y=\"y_u\")\n",
    "f_u = f.replace_var(x=\"x_u\", y=\"y_u\")\n",
    "\n",
    "q_u = _q_u * f_u\n",
    "p_joint_u = p_u * prior\n",
    "\n",
    "p_joint_u.to(device)\n",
    "q_u.to(device)\n",
    "f_u.to(device)\n",
    "\n",
    "print(p_joint_u)\n",
    "print_latex(p_joint_u)"
   ]
  },
  {
   "cell_type": "code",
   "execution_count": 9,
   "metadata": {},
   "outputs": [
    {
     "name": "stdout",
     "output_type": "stream",
     "text": [
      "Distribution:\n",
      "  q(z,y_{u}|x_{u}) = q(z|x_{u},y_{u})p(y_{u}|x_{u})\n",
      "Network architecture:\n",
      "  p(y_{u}|x_{u}) -> p(y|x):\n",
      "  Classifier(\n",
      "    name=p, distribution_name=RelaxedCategorical,\n",
      "    var=['y'], cond_var=['x'], input_var=['x'], features_shape=torch.Size([])\n",
      "    (temperature): torch.Size([1])\n",
      "    (fc1): Linear(in_features=784, out_features=512, bias=True)\n",
      "    (fc2): Linear(in_features=512, out_features=10, bias=True)\n",
      "  )\n",
      "  q(z|x_{u},y_{u}) -> q(z|x,y):\n",
      "  Inference(\n",
      "    name=q, distribution_name=Normal,\n",
      "    var=['z'], cond_var=['x', 'y'], input_var=['x', 'y'], features_shape=torch.Size([])\n",
      "    (fc1): Linear(in_features=794, out_features=512, bias=True)\n",
      "    (fc21): Linear(in_features=512, out_features=64, bias=True)\n",
      "    (fc22): Linear(in_features=512, out_features=64, bias=True)\n",
      "  )\n"
     ]
    },
    {
     "data": {
      "text/latex": [
       "$\\displaystyle q(z,y_{u}|x_{u}) = q(z|x_{u},y_{u})p(y_{u}|x_{u})$"
      ],
      "text/plain": [
       "<IPython.core.display.Math object>"
      ]
     },
     "execution_count": 9,
     "metadata": {},
     "output_type": "execute_result"
    }
   ],
   "source": [
    "print(q_u)\n",
    "print_latex(q_u)"
   ]
  },
  {
   "cell_type": "code",
   "execution_count": 10,
   "metadata": {},
   "outputs": [
    {
     "name": "stdout",
     "output_type": "stream",
     "text": [
      "Distribution:\n",
      "  p(y_{u}|x_{u})\n",
      "Network architecture:\n",
      "  p(y_{u}|x_{u}) -> p(y|x):\n",
      "  Classifier(\n",
      "    name=p, distribution_name=RelaxedCategorical,\n",
      "    var=['y'], cond_var=['x'], input_var=['x'], features_shape=torch.Size([])\n",
      "    (temperature): torch.Size([1])\n",
      "    (fc1): Linear(in_features=784, out_features=512, bias=True)\n",
      "    (fc2): Linear(in_features=512, out_features=10, bias=True)\n",
      "  )\n"
     ]
    },
    {
     "data": {
      "text/latex": [
       "$\\displaystyle p(y_{u}|x_{u})$"
      ],
      "text/plain": [
       "<IPython.core.display.Math object>"
      ]
     },
     "execution_count": 10,
     "metadata": {},
     "output_type": "execute_result"
    }
   ],
   "source": [
    "print(f_u)\n",
    "print_latex(f_u)"
   ]
  },
  {
   "cell_type": "code",
   "execution_count": 11,
   "metadata": {},
   "outputs": [
    {
     "name": "stdout",
     "output_type": "stream",
     "text": [
      "mean \\left(- 470.0 \\log p(y|x) \\right) - mean \\left(\\mathbb{E}_{q(z,y_{u}|x_{u})} \\left[\\log p(z,x_{u}|y_{u}) - \\log q(z,y_{u}|x_{u}) \\right] \\right) - mean \\left(\\mathbb{E}_{q(z|x,y)} \\left[\\log p(x,z|y) - \\log q(z|x,y) \\right] \\right)\n"
     ]
    },
    {
     "data": {
      "text/latex": [
       "$\\displaystyle mean \\left(- 470.0 \\log p(y|x) \\right) - mean \\left(\\mathbb{E}_{q(z,y_{u}|x_{u})} \\left[\\log p(z,x_{u}|y_{u}) - \\log q(z,y_{u}|x_{u}) \\right] \\right) - mean \\left(\\mathbb{E}_{q(z|x,y)} \\left[\\log p(x,z|y) - \\log q(z|x,y) \\right] \\right)$"
      ],
      "text/plain": [
       "<IPython.core.display.Math object>"
      ]
     },
     "execution_count": 11,
     "metadata": {},
     "output_type": "execute_result"
    }
   ],
   "source": [
    "elbo_u = ELBO(p_joint_u, q_u)\n",
    "elbo = ELBO(p_joint, q)\n",
    "nll = -f.log_prob() # or -LogProb(f)\n",
    "\n",
    "rate = 1 * (len(unlabelled) + len(labelled)) / len(labelled)\n",
    "\n",
    "loss_cls = -elbo_u.mean() -elbo.mean() + (rate * nll).mean() \n",
    "print(loss_cls)\n",
    "print_latex(loss_cls)"
   ]
  },
  {
   "cell_type": "code",
   "execution_count": 12,
   "metadata": {},
   "outputs": [
    {
     "name": "stdout",
     "output_type": "stream",
     "text": [
      "Distributions (for training): \n",
      "  p(x|z,y), q(z|x,y), p(y|x) \n",
      "Loss function: \n",
      "  mean \\left(- 470.0 \\log p(y|x) \\right) - mean \\left(\\mathbb{E}_{q(z,y_{u}|x_{u})} \\left[\\log p(z,x_{u}|y_{u}) - \\log q(z,y_{u}|x_{u}) \\right] \\right) - mean \\left(\\mathbb{E}_{q(z|x,y)} \\left[\\log p(x,z|y) - \\log q(z|x,y) \\right] \\right) \n",
      "Optimizer: \n",
      "  Adam (\n",
      "  Parameter Group 0\n",
      "      amsgrad: False\n",
      "      betas: (0.9, 0.999)\n",
      "      eps: 1e-08\n",
      "      lr: 0.001\n",
      "      weight_decay: 0\n",
      "  )\n"
     ]
    },
    {
     "data": {
      "text/latex": [
       "$\\displaystyle mean \\left(- 470.0 \\log p(y|x) \\right) - mean \\left(\\mathbb{E}_{q(z,y_{u}|x_{u})} \\left[\\log p(z,x_{u}|y_{u}) - \\log q(z,y_{u}|x_{u}) \\right] \\right) - mean \\left(\\mathbb{E}_{q(z|x,y)} \\left[\\log p(x,z|y) - \\log q(z|x,y) \\right] \\right)$"
      ],
      "text/plain": [
       "<IPython.core.display.Math object>"
      ]
     },
     "execution_count": 12,
     "metadata": {},
     "output_type": "execute_result"
    }
   ],
   "source": [
    "model = Model(loss_cls,test_loss=nll.mean(),\n",
    "              distributions=[p, q, f], optimizer=optim.Adam, optimizer_params={\"lr\":1e-3})\n",
    "print(model)\n",
    "print_latex(model)"
   ]
  },
  {
   "cell_type": "code",
   "execution_count": 13,
   "metadata": {},
   "outputs": [],
   "source": [
    "def train(epoch):\n",
    "    train_loss = 0\n",
    "    for x_u, y_u in tqdm(unlabelled):\n",
    "        x, y = iter(labelled).next()\n",
    "        x = x.to(device)\n",
    "        y = torch.eye(10)[y].to(device)\n",
    "        x_u = x_u.to(device)\n",
    "        loss = model.train({\"x\": x, \"y\": y, \"x_u\": x_u})\n",
    "        train_loss += loss\n",
    "        \n",
    "    train_loss = train_loss * unlabelled.batch_size / len(unlabelled.dataset)\n",
    "    print('Epoch: {} Train loss: {:.4f}'.format(epoch, train_loss))\n",
    "    \n",
    "    return train_loss"
   ]
  },
  {
   "cell_type": "code",
   "execution_count": 14,
   "metadata": {},
   "outputs": [],
   "source": [
    "def test(epoch):\n",
    "    test_loss = 0\n",
    "    correct = 0\n",
    "    total = 0    \n",
    "    for x, y in validation:\n",
    "        x = x.to(device)\n",
    "        y = torch.eye(10)[y].to(device)        \n",
    "        loss = model.test({\"x\": x, \"y\": y})\n",
    "        test_loss += loss\n",
    "        \n",
    "        pred_y = f.sample_mean({\"x\": x})\n",
    "        total += y.size(0)\n",
    "        correct += (pred_y.argmax(dim=1) == y.argmax(dim=1)).sum().item()      \n",
    "\n",
    "    test_loss = test_loss * validation.batch_size / len(validation.dataset)\n",
    "    test_accuracy = 100 * correct / total\n",
    "    print('Test loss: {:.4f}, Test accuracy: {:.4f}'.format(test_loss, test_accuracy))\n",
    "    return test_loss, test_accuracy"
   ]
  },
  {
   "cell_type": "code",
   "execution_count": 15,
   "metadata": {},
   "outputs": [],
   "source": [
    "import datetime\n",
    "\n",
    "dt_now = datetime.datetime.now()\n",
    "exp_time = dt_now.strftime('%Y%m%d_%H:%M:%S')"
   ]
  },
  {
   "cell_type": "code",
   "execution_count": 16,
   "metadata": {},
   "outputs": [
    {
     "name": "stderr",
     "output_type": "stream",
     "text": [
      "100%|██████████| 469/469 [01:09<00:00,  6.77it/s]"
     ]
    },
    {
     "name": "stdout",
     "output_type": "stream",
     "text": [
      "Epoch: 1 Train loss: 341.2683\n"
     ]
    },
    {
     "name": "stderr",
     "output_type": "stream",
     "text": [
      "\n",
      "  0%|          | 0/469 [00:00<?, ?it/s]"
     ]
    },
    {
     "name": "stdout",
     "output_type": "stream",
     "text": [
      "Test loss: 1.8495, Test accuracy: 71.9900\n"
     ]
    },
    {
     "name": "stderr",
     "output_type": "stream",
     "text": [
      "100%|██████████| 469/469 [01:10<00:00,  6.66it/s]"
     ]
    },
    {
     "name": "stdout",
     "output_type": "stream",
     "text": [
      "Epoch: 2 Train loss: 215.2050\n"
     ]
    },
    {
     "name": "stderr",
     "output_type": "stream",
     "text": [
      "\n",
      "  0%|          | 0/469 [00:00<?, ?it/s]"
     ]
    },
    {
     "name": "stdout",
     "output_type": "stream",
     "text": [
      "Test loss: 2.1879, Test accuracy: 70.2200\n"
     ]
    },
    {
     "name": "stderr",
     "output_type": "stream",
     "text": [
      "100%|██████████| 469/469 [01:13<00:00,  6.42it/s]\n"
     ]
    },
    {
     "name": "stdout",
     "output_type": "stream",
     "text": [
      "Epoch: 3 Train loss: 199.4764\n"
     ]
    },
    {
     "name": "stderr",
     "output_type": "stream",
     "text": [
      "  0%|          | 0/469 [00:00<?, ?it/s]"
     ]
    },
    {
     "name": "stdout",
     "output_type": "stream",
     "text": [
      "Test loss: 2.2798, Test accuracy: 71.2500\n"
     ]
    },
    {
     "name": "stderr",
     "output_type": "stream",
     "text": [
      "100%|██████████| 469/469 [01:14<00:00,  6.27it/s]"
     ]
    },
    {
     "name": "stdout",
     "output_type": "stream",
     "text": [
      "Epoch: 4 Train loss: 192.5271\n"
     ]
    },
    {
     "name": "stderr",
     "output_type": "stream",
     "text": [
      "\n",
      "  0%|          | 0/469 [00:00<?, ?it/s]"
     ]
    },
    {
     "name": "stdout",
     "output_type": "stream",
     "text": [
      "Test loss: 2.7242, Test accuracy: 69.5000\n"
     ]
    },
    {
     "name": "stderr",
     "output_type": "stream",
     "text": [
      "100%|██████████| 469/469 [01:13<00:00,  6.38it/s]"
     ]
    },
    {
     "name": "stdout",
     "output_type": "stream",
     "text": [
      "Epoch: 5 Train loss: 188.6577\n"
     ]
    },
    {
     "name": "stderr",
     "output_type": "stream",
     "text": [
      "\n",
      "  0%|          | 0/469 [00:00<?, ?it/s]"
     ]
    },
    {
     "name": "stdout",
     "output_type": "stream",
     "text": [
      "Test loss: 2.7264, Test accuracy: 71.0500\n"
     ]
    },
    {
     "name": "stderr",
     "output_type": "stream",
     "text": [
      "100%|██████████| 469/469 [01:13<00:00,  6.36it/s]"
     ]
    },
    {
     "name": "stdout",
     "output_type": "stream",
     "text": [
      "Epoch: 6 Train loss: 186.1241\n"
     ]
    },
    {
     "name": "stderr",
     "output_type": "stream",
     "text": [
      "\n",
      "  0%|          | 0/469 [00:00<?, ?it/s]"
     ]
    },
    {
     "name": "stdout",
     "output_type": "stream",
     "text": [
      "Test loss: 2.8207, Test accuracy: 72.5300\n"
     ]
    },
    {
     "name": "stderr",
     "output_type": "stream",
     "text": [
      "100%|██████████| 469/469 [01:13<00:00,  6.36it/s]\n"
     ]
    },
    {
     "name": "stdout",
     "output_type": "stream",
     "text": [
      "Epoch: 7 Train loss: 184.3111\n"
     ]
    },
    {
     "name": "stderr",
     "output_type": "stream",
     "text": [
      "  0%|          | 0/469 [00:00<?, ?it/s]"
     ]
    },
    {
     "name": "stdout",
     "output_type": "stream",
     "text": [
      "Test loss: 2.9221, Test accuracy: 72.4700\n"
     ]
    },
    {
     "name": "stderr",
     "output_type": "stream",
     "text": [
      "100%|██████████| 469/469 [01:13<00:00,  6.40it/s]"
     ]
    },
    {
     "name": "stdout",
     "output_type": "stream",
     "text": [
      "Epoch: 8 Train loss: 182.8273\n"
     ]
    },
    {
     "name": "stderr",
     "output_type": "stream",
     "text": [
      "\n",
      "  0%|          | 0/469 [00:00<?, ?it/s]"
     ]
    },
    {
     "name": "stdout",
     "output_type": "stream",
     "text": [
      "Test loss: 3.0312, Test accuracy: 74.4200\n"
     ]
    },
    {
     "name": "stderr",
     "output_type": "stream",
     "text": [
      "100%|██████████| 469/469 [01:13<00:00,  6.38it/s]"
     ]
    },
    {
     "name": "stdout",
     "output_type": "stream",
     "text": [
      "Epoch: 9 Train loss: 181.6874\n"
     ]
    },
    {
     "name": "stderr",
     "output_type": "stream",
     "text": [
      "\n",
      "  0%|          | 0/469 [00:00<?, ?it/s]"
     ]
    },
    {
     "name": "stdout",
     "output_type": "stream",
     "text": [
      "Test loss: 2.5889, Test accuracy: 77.2500\n"
     ]
    },
    {
     "name": "stderr",
     "output_type": "stream",
     "text": [
      "100%|██████████| 469/469 [01:13<00:00,  6.40it/s]\n"
     ]
    },
    {
     "name": "stdout",
     "output_type": "stream",
     "text": [
      "Epoch: 10 Train loss: 180.7162\n",
      "Test loss: 2.5414, Test accuracy: 77.8800\n"
     ]
    }
   ],
   "source": [
    "import pixyz\n",
    "v = pixyz.__version__\n",
    "writer = SummaryWriter(\"runs/\" + v + \".m2\"  + exp_time)\n",
    "\n",
    "import time\n",
    "start = time.time()\n",
    "for epoch in range(1, epochs + 1):\n",
    "    train_loss = train(epoch)\n",
    "    test_loss, test_accuracy = test(epoch)\n",
    "\n",
    "    writer.add_scalar('train_loss', train_loss.item(), epoch)\n",
    "    writer.add_scalar('test_loss', test_loss.item(), epoch)\n",
    "    writer.add_scalar('test_accuracy', test_accuracy, epoch)    \n",
    "elapsed_time = time.time() - start\n",
    "writer.add_scalar('Exp time second', elapsed_time)\n",
    "writer.close()"
   ]
  },
  {
   "cell_type": "code",
   "execution_count": 16,
   "metadata": {},
   "outputs": [],
   "source": []
  }
 ],
 "metadata": {
  "kernelspec": {
   "display_name": "Python 3",
   "language": "python",
   "name": "python3"
  },
  "language_info": {
   "codemirror_mode": {
    "name": "ipython",
    "version": 3
   },
   "file_extension": ".py",
   "mimetype": "text/x-python",
   "name": "python",
   "nbconvert_exporter": "python",
   "pygments_lexer": "ipython3",
   "version": "3.8.5"
  }
 },
 "nbformat": 4,
 "nbformat_minor": 4
}
