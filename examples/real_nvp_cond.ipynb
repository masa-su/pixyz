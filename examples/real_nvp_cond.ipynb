{
 "cells": [
  {
   "cell_type": "markdown",
   "metadata": {},
   "source": [
    "# Conditional Real NVP"
   ]
  },
  {
   "cell_type": "code",
   "execution_count": 1,
   "metadata": {},
   "outputs": [],
   "source": [
    "from __future__ import print_function\n",
    "import torch\n",
    "import torch.utils.data\n",
    "from torch import nn, optim\n",
    "from torch.nn import functional as F\n",
    "from torchvision import datasets, transforms\n",
    "from torchvision.utils import save_image\n",
    "from tensorboardX import SummaryWriter\n",
    "\n",
    "from tqdm import tqdm\n",
    "\n",
    "batch_size = 128\n",
    "epochs = 10\n",
    "seed = 1\n",
    "torch.manual_seed(seed)\n",
    "\n",
    "if torch.cuda.is_available():\n",
    "    device = \"cuda\"\n",
    "else:\n",
    "    device = \"cpu\""
   ]
  },
  {
   "cell_type": "code",
   "execution_count": 2,
   "metadata": {},
   "outputs": [],
   "source": [
    "root = '../data'\n",
    "transform = transforms.Compose([transforms.ToTensor(),\n",
    "                                transforms.Lambda(lambd=lambda x: x.view(-1))])\n",
    "kwargs = {'batch_size': batch_size, 'num_workers': 1, 'pin_memory': True}\n",
    "\n",
    "train_loader = torch.utils.data.DataLoader(\n",
    "    datasets.MNIST(root=root, train=True, transform=transform, download=True),\n",
    "    shuffle=True, **kwargs)\n",
    "test_loader = torch.utils.data.DataLoader(\n",
    "    datasets.MNIST(root=root, train=False, transform=transform),\n",
    "    shuffle=False, **kwargs)"
   ]
  },
  {
   "cell_type": "code",
   "execution_count": 3,
   "metadata": {},
   "outputs": [],
   "source": [
    "from pixyz.distributions import Normal, InverseTransformedDistribution\n",
    "from pixyz.flows import AffineCoupling, FlowList, BatchNorm1d, Shuffle, Preprocess, Reverse\n",
    "from pixyz.models import ML"
   ]
  },
  {
   "cell_type": "code",
   "execution_count": 4,
   "metadata": {},
   "outputs": [],
   "source": [
    "x_dim = 28*28\n",
    "y_dim = 10\n",
    "z_dim = x_dim"
   ]
  },
  {
   "cell_type": "code",
   "execution_count": 5,
   "metadata": {},
   "outputs": [],
   "source": [
    "# prior model p(z)\n",
    "loc = torch.tensor(0.).to(device)\n",
    "scale = torch.tensor(1.).to(device)\n",
    "prior = Normal(loc=loc, scale=scale, var=[\"z\"], dim=z_dim, name=\"p_prior\")"
   ]
  },
  {
   "cell_type": "code",
   "execution_count": 6,
   "metadata": {},
   "outputs": [],
   "source": [
    "class ScaleTranslateNet(nn.Module):\n",
    "    def __init__(self, in_features, hidden_features):\n",
    "        super().__init__()\n",
    "        self.fc1 = nn.Linear(in_features+y_dim, hidden_features)\n",
    "        self.fc2 = nn.Linear(hidden_features, hidden_features)\n",
    "        self.fc3_s = nn.Linear(hidden_features, in_features)\n",
    "        self.fc3_t = nn.Linear(hidden_features, in_features)\n",
    "\n",
    "    def forward(self, x, y):\n",
    "        hidden = F.relu(self.fc2(F.relu(self.fc1(torch.cat([x, y], 1)))))\n",
    "        log_s = torch.tanh(self.fc3_s(hidden))\n",
    "        t = self.fc3_t(hidden)\n",
    "        return log_s, t"
   ]
  },
  {
   "cell_type": "code",
   "execution_count": 7,
   "metadata": {},
   "outputs": [],
   "source": [
    "# flow\n",
    "flow_list = []\n",
    "num_block = 5\n",
    "\n",
    "flow_list.append(Preprocess())\n",
    "\n",
    "for i in range(num_block):\n",
    "        flow_list.append(AffineCoupling(in_features=x_dim,\n",
    "                                        scale_translate_net=ScaleTranslateNet(x_dim, 1028),\n",
    "                                        inverse_mask=(i%2!=0)))\n",
    "        \n",
    "        flow_list.append(BatchNorm1d(x_dim))\n",
    "        \n",
    "f = FlowList(flow_list)"
   ]
  },
  {
   "cell_type": "code",
   "execution_count": 8,
   "metadata": {},
   "outputs": [
    {
     "data": {
      "text/plain": [
       "InverseTransformedDistribution(\n",
       "  (prior): Normal()\n",
       "  (flow): FlowList(\n",
       "    (0): Preprocess()\n",
       "    (1): AffineCoupling(\n",
       "      in_features=784, mask_type=channel_wise, inverse_mask=False\n",
       "      (scale_translate_net): ScaleTranslateNet(\n",
       "        (fc1): Linear(in_features=794, out_features=1028, bias=True)\n",
       "        (fc2): Linear(in_features=1028, out_features=1028, bias=True)\n",
       "        (fc3_s): Linear(in_features=1028, out_features=784, bias=True)\n",
       "        (fc3_t): Linear(in_features=1028, out_features=784, bias=True)\n",
       "      )\n",
       "    )\n",
       "    (2): BatchNorm1d()\n",
       "    (3): AffineCoupling(\n",
       "      in_features=784, mask_type=channel_wise, inverse_mask=True\n",
       "      (scale_translate_net): ScaleTranslateNet(\n",
       "        (fc1): Linear(in_features=794, out_features=1028, bias=True)\n",
       "        (fc2): Linear(in_features=1028, out_features=1028, bias=True)\n",
       "        (fc3_s): Linear(in_features=1028, out_features=784, bias=True)\n",
       "        (fc3_t): Linear(in_features=1028, out_features=784, bias=True)\n",
       "      )\n",
       "    )\n",
       "    (4): BatchNorm1d()\n",
       "    (5): AffineCoupling(\n",
       "      in_features=784, mask_type=channel_wise, inverse_mask=False\n",
       "      (scale_translate_net): ScaleTranslateNet(\n",
       "        (fc1): Linear(in_features=794, out_features=1028, bias=True)\n",
       "        (fc2): Linear(in_features=1028, out_features=1028, bias=True)\n",
       "        (fc3_s): Linear(in_features=1028, out_features=784, bias=True)\n",
       "        (fc3_t): Linear(in_features=1028, out_features=784, bias=True)\n",
       "      )\n",
       "    )\n",
       "    (6): BatchNorm1d()\n",
       "    (7): AffineCoupling(\n",
       "      in_features=784, mask_type=channel_wise, inverse_mask=True\n",
       "      (scale_translate_net): ScaleTranslateNet(\n",
       "        (fc1): Linear(in_features=794, out_features=1028, bias=True)\n",
       "        (fc2): Linear(in_features=1028, out_features=1028, bias=True)\n",
       "        (fc3_s): Linear(in_features=1028, out_features=784, bias=True)\n",
       "        (fc3_t): Linear(in_features=1028, out_features=784, bias=True)\n",
       "      )\n",
       "    )\n",
       "    (8): BatchNorm1d()\n",
       "    (9): AffineCoupling(\n",
       "      in_features=784, mask_type=channel_wise, inverse_mask=False\n",
       "      (scale_translate_net): ScaleTranslateNet(\n",
       "        (fc1): Linear(in_features=794, out_features=1028, bias=True)\n",
       "        (fc2): Linear(in_features=1028, out_features=1028, bias=True)\n",
       "        (fc3_s): Linear(in_features=1028, out_features=784, bias=True)\n",
       "        (fc3_t): Linear(in_features=1028, out_features=784, bias=True)\n",
       "      )\n",
       "    )\n",
       "    (10): BatchNorm1d()\n",
       "  )\n",
       ")"
      ]
     },
     "execution_count": 8,
     "metadata": {},
     "output_type": "execute_result"
    }
   ],
   "source": [
    "# inverse transformed distribution (z -> f^-1 -> x)\n",
    "p = InverseTransformedDistribution(prior=prior, flow=f, var=[\"x\"], cond_var=[\"y\"])\n",
    "p.to(device)"
   ]
  },
  {
   "cell_type": "code",
   "execution_count": 9,
   "metadata": {},
   "outputs": [
    {
     "name": "stdout",
     "output_type": "stream",
     "text": [
      "Distributions (for training): \n",
      "  p(x|y) \n",
      "Loss function: \n",
      "  mean(-(log p(x|y))) \n",
      "Optimizer: \n",
      "  Adam (\n",
      "  Parameter Group 0\n",
      "      amsgrad: False\n",
      "      betas: (0.9, 0.999)\n",
      "      eps: 1e-08\n",
      "      lr: 0.001\n",
      "      weight_decay: 0\n",
      "  )\n"
     ]
    }
   ],
   "source": [
    "model = ML(p, optimizer=optim.Adam, optimizer_params={\"lr\":1e-3})\n",
    "print(model)"
   ]
  },
  {
   "cell_type": "code",
   "execution_count": 10,
   "metadata": {},
   "outputs": [],
   "source": [
    "def train(epoch):\n",
    "    train_loss = 0\n",
    "    for x, y in tqdm(train_loader):\n",
    "        x = x.to(device)\n",
    "        y = torch.eye(10)[y].to(device)        \n",
    "        loss = model.train({\"x\": x, \"y\": y})\n",
    "        train_loss += loss\n",
    " \n",
    "    train_loss = train_loss * train_loader.batch_size / len(train_loader.dataset)\n",
    "    print('Epoch: {} Train loss: {:.4f}'.format(epoch, train_loss))\n",
    "    return train_loss"
   ]
  },
  {
   "cell_type": "code",
   "execution_count": 11,
   "metadata": {},
   "outputs": [],
   "source": [
    "def test(epoch):\n",
    "    test_loss = 0\n",
    "    for x, y in test_loader:\n",
    "        x = x.to(device)\n",
    "        y = torch.eye(10)[y].to(device)\n",
    "        loss = model.test({\"x\": x, \"y\": y})\n",
    "        test_loss += loss\n",
    "\n",
    "    test_loss = test_loss * test_loader.batch_size / len(test_loader.dataset)\n",
    "    print('Test loss: {:.4f}'.format(test_loss))\n",
    "    return test_loss"
   ]
  },
  {
   "cell_type": "code",
   "execution_count": 12,
   "metadata": {},
   "outputs": [],
   "source": [
    "def plot_reconstrunction(x, y):\n",
    "    with torch.no_grad():\n",
    "        z = p.forward(x, y, compute_jacobian=False)\n",
    "        recon_batch = p.inverse(z, y).view(-1, 1, 28, 28)\n",
    "    \n",
    "        recon = torch.cat([x.view(-1, 1, 28, 28), recon_batch]).cpu()\n",
    "        return recon\n",
    "    \n",
    "def plot_image_from_latent(z, y):\n",
    "    with torch.no_grad():\n",
    "        sample = p.inverse(z, y).view(-1, 1, 28, 28).cpu()\n",
    "        return sample\n",
    "    \n",
    "def plot_reconstrunction_changing_y(x, y):\n",
    "    y_change = torch.eye(10)[range(7)].to(device)\n",
    "    batch_dummy = torch.ones(x.size(0))[:, None].to(device)    \n",
    "    recon_all = []\n",
    "    \n",
    "    with torch.no_grad():\n",
    "        for _y in y_change:\n",
    "            z = p.forward(x, y, compute_jacobian=False)\n",
    "            recon_batch = p.inverse(z, batch_dummy * _y[None,:]).view(-1, 1, 28, 28)\n",
    "            recon_all.append(recon_batch)\n",
    "    \n",
    "        recon_changing_y = torch.cat(recon_all)\n",
    "        recon_changing_y = torch.cat([x.view(-1, 1, 28, 28), recon_changing_y]).cpu()\n",
    "        return recon_changing_y"
   ]
  },
  {
   "cell_type": "code",
   "execution_count": 13,
   "metadata": {},
   "outputs": [
    {
     "name": "stderr",
     "output_type": "stream",
     "text": [
      "100%|██████████| 469/469 [00:08<00:00, 56.99it/s]"
     ]
    },
    {
     "name": "stdout",
     "output_type": "stream",
     "text": [
      "Epoch: 1 Train loss: 1441.8644\n"
     ]
    },
    {
     "name": "stderr",
     "output_type": "stream",
     "text": [
      "\n",
      "  0%|          | 0/469 [00:00<?, ?it/s]"
     ]
    },
    {
     "name": "stdout",
     "output_type": "stream",
     "text": [
      "Test loss: 1860.2610\n"
     ]
    },
    {
     "name": "stderr",
     "output_type": "stream",
     "text": [
      "100%|██████████| 469/469 [00:08<00:00, 57.26it/s]\n"
     ]
    },
    {
     "name": "stdout",
     "output_type": "stream",
     "text": [
      "Epoch: 2 Train loss: 1250.6980\n"
     ]
    },
    {
     "name": "stderr",
     "output_type": "stream",
     "text": [
      "  0%|          | 0/469 [00:00<?, ?it/s]"
     ]
    },
    {
     "name": "stdout",
     "output_type": "stream",
     "text": [
      "Test loss: 1555.3223\n"
     ]
    },
    {
     "name": "stderr",
     "output_type": "stream",
     "text": [
      "100%|██████████| 469/469 [00:08<00:00, 54.33it/s]\n"
     ]
    },
    {
     "name": "stdout",
     "output_type": "stream",
     "text": [
      "Epoch: 3 Train loss: 1191.8983\n"
     ]
    },
    {
     "name": "stderr",
     "output_type": "stream",
     "text": [
      "  0%|          | 0/469 [00:00<?, ?it/s]"
     ]
    },
    {
     "name": "stdout",
     "output_type": "stream",
     "text": [
      "Test loss: 1408.2892\n"
     ]
    },
    {
     "name": "stderr",
     "output_type": "stream",
     "text": [
      "100%|██████████| 469/469 [00:08<00:00, 57.93it/s]\n"
     ]
    },
    {
     "name": "stdout",
     "output_type": "stream",
     "text": [
      "Epoch: 4 Train loss: 1156.9955\n"
     ]
    },
    {
     "name": "stderr",
     "output_type": "stream",
     "text": [
      "  0%|          | 0/469 [00:00<?, ?it/s]"
     ]
    },
    {
     "name": "stdout",
     "output_type": "stream",
     "text": [
      "Test loss: 1404.1586\n"
     ]
    },
    {
     "name": "stderr",
     "output_type": "stream",
     "text": [
      "100%|██████████| 469/469 [00:09<00:00, 51.98it/s]"
     ]
    },
    {
     "name": "stdout",
     "output_type": "stream",
     "text": [
      "Epoch: 5 Train loss: 1134.7413\n"
     ]
    },
    {
     "name": "stderr",
     "output_type": "stream",
     "text": [
      "\n",
      "  0%|          | 0/469 [00:00<?, ?it/s]"
     ]
    },
    {
     "name": "stdout",
     "output_type": "stream",
     "text": [
      "Test loss: 1571.1458\n"
     ]
    },
    {
     "name": "stderr",
     "output_type": "stream",
     "text": [
      "100%|██████████| 469/469 [00:09<00:00, 52.04it/s]\n"
     ]
    },
    {
     "name": "stdout",
     "output_type": "stream",
     "text": [
      "Epoch: 6 Train loss: 1117.4235\n"
     ]
    },
    {
     "name": "stderr",
     "output_type": "stream",
     "text": [
      "  0%|          | 0/469 [00:00<?, ?it/s]"
     ]
    },
    {
     "name": "stdout",
     "output_type": "stream",
     "text": [
      "Test loss: 1406.2551\n"
     ]
    },
    {
     "name": "stderr",
     "output_type": "stream",
     "text": [
      "100%|██████████| 469/469 [00:08<00:00, 57.91it/s]"
     ]
    },
    {
     "name": "stdout",
     "output_type": "stream",
     "text": [
      "Epoch: 7 Train loss: 1103.4419\n"
     ]
    },
    {
     "name": "stderr",
     "output_type": "stream",
     "text": [
      "\n",
      "  0%|          | 0/469 [00:00<?, ?it/s]"
     ]
    },
    {
     "name": "stdout",
     "output_type": "stream",
     "text": [
      "Test loss: 1536.9764\n"
     ]
    },
    {
     "name": "stderr",
     "output_type": "stream",
     "text": [
      "100%|██████████| 469/469 [00:08<00:00, 60.29it/s]"
     ]
    },
    {
     "name": "stdout",
     "output_type": "stream",
     "text": [
      "Epoch: 8 Train loss: 1092.7297\n"
     ]
    },
    {
     "name": "stderr",
     "output_type": "stream",
     "text": [
      "\n",
      "  0%|          | 0/469 [00:00<?, ?it/s]"
     ]
    },
    {
     "name": "stdout",
     "output_type": "stream",
     "text": [
      "Test loss: 1247.3845\n"
     ]
    },
    {
     "name": "stderr",
     "output_type": "stream",
     "text": [
      "100%|██████████| 469/469 [00:08<00:00, 59.88it/s]\n"
     ]
    },
    {
     "name": "stdout",
     "output_type": "stream",
     "text": [
      "Epoch: 9 Train loss: 1083.1008\n"
     ]
    },
    {
     "name": "stderr",
     "output_type": "stream",
     "text": [
      "  0%|          | 0/469 [00:00<?, ?it/s]"
     ]
    },
    {
     "name": "stdout",
     "output_type": "stream",
     "text": [
      "Test loss: 1287.0117\n"
     ]
    },
    {
     "name": "stderr",
     "output_type": "stream",
     "text": [
      "100%|██████████| 469/469 [00:08<00:00, 58.35it/s]"
     ]
    },
    {
     "name": "stdout",
     "output_type": "stream",
     "text": [
      "Epoch: 10 Train loss: 1074.8428\n"
     ]
    },
    {
     "name": "stderr",
     "output_type": "stream",
     "text": [
      "\n"
     ]
    },
    {
     "name": "stdout",
     "output_type": "stream",
     "text": [
      "Test loss: 1305.0970\n"
     ]
    }
   ],
   "source": [
    "writer = SummaryWriter()\n",
    "\n",
    "plot_number = 5\n",
    "\n",
    "z_sample = 0.5 * torch.randn(64, z_dim).to(device)\n",
    "y_sample = torch.eye(10)[[plot_number]*64].to(device)\n",
    "\n",
    "_x, _y = iter(test_loader).next()\n",
    "_x = _x.to(device)\n",
    "_y = torch.eye(10)[_y].to(device)\n",
    "\n",
    "for epoch in range(1, epochs + 1):\n",
    "    train_loss = train(epoch)\n",
    "    test_loss = test(epoch)\n",
    "    \n",
    "    recon = plot_reconstrunction(_x[:8], _y[:8])\n",
    "    sample = plot_image_from_latent(z_sample, y_sample)\n",
    "    recon_changing_y = plot_reconstrunction_changing_y(_x[:8], _y[:8])\n",
    "\n",
    "    writer.add_scalar('train_loss', train_loss.item(), epoch)\n",
    "    writer.add_scalar('test_loss', test_loss.item(), epoch)      \n",
    "    \n",
    "    writer.add_images('Image_from_latent', sample, epoch)\n",
    "    writer.add_images('Image_reconstrunction', recon, epoch)\n",
    "    writer.add_images('Image_reconstrunction_change_y', recon_changing_y, epoch)\n",
    "    \n",
    "writer.close()"
   ]
  },
  {
   "cell_type": "code",
   "execution_count": null,
   "metadata": {},
   "outputs": [],
   "source": []
  }
 ],
 "metadata": {
  "kernelspec": {
   "display_name": "Python 3",
   "language": "python",
   "name": "python3"
  },
  "language_info": {
   "codemirror_mode": {
    "name": "ipython",
    "version": 3
   },
   "file_extension": ".py",
   "mimetype": "text/x-python",
   "name": "python",
   "nbconvert_exporter": "python",
   "pygments_lexer": "ipython3",
   "version": "3.7.2"
  }
 },
 "nbformat": 4,
 "nbformat_minor": 2
}
